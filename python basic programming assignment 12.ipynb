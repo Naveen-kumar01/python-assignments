{
 "cells": [
  {
   "cell_type": "markdown",
   "metadata": {},
   "source": [
    "1. Write a Python program to Extract Unique values dictionary values?"
   ]
  },
  {
   "cell_type": "code",
   "execution_count": 1,
   "metadata": {},
   "outputs": [
    {
     "name": "stdout",
     "output_type": "stream",
     "text": [
      "['Vishnu', 'Ram', 'sita']\n"
     ]
    }
   ],
   "source": [
    "dict = {'1':'Vishnu','2':'Vishnu','3':'Ram','4':'Ram','5':'sita'}\n",
    "l=[]\n",
    "for i in dict.values():\n",
    "    if i in l:\n",
    "        continue\n",
    "    else:\n",
    "        l.append(i)\n",
    "print(l)"
   ]
  },
  {
   "cell_type": "markdown",
   "metadata": {},
   "source": [
    "2. Write a Python program to find the sum of all items in a dictionary?"
   ]
  },
  {
   "cell_type": "code",
   "execution_count": 4,
   "metadata": {},
   "outputs": [
    {
     "name": "stdout",
     "output_type": "stream",
     "text": [
      "150\n"
     ]
    }
   ],
   "source": [
    "dict = {1:10,2:20,3:30,4:40,5:50}\n",
    "sum=0\n",
    "for i in dict.values():\n",
    "    sum+=i\n",
    "print(sum)"
   ]
  },
  {
   "cell_type": "markdown",
   "metadata": {},
   "source": [
    "3. Write a Python program to Merging two Dictionaries?"
   ]
  },
  {
   "cell_type": "code",
   "execution_count": 9,
   "metadata": {},
   "outputs": [
    {
     "name": "stdout",
     "output_type": "stream",
     "text": [
      "{1: 10, 2: 20, 3: 30, 4: 40, 5: 50, 'x': 'Vishnu', 'y': 'Happy', 'z': 'Ram', 'v': 'sita'}\n"
     ]
    }
   ],
   "source": [
    "dict1 = {1:10,2:20,3:30,4:40,5:50}\n",
    "dict2 = {'x':'Vishnu','y':'Happy','z':'Ram','v':'sita'}\n",
    "dict1.update(dict2)\n",
    "print(dict1)"
   ]
  },
  {
   "cell_type": "code",
   "execution_count": null,
   "metadata": {},
   "outputs": [],
   "source": [
    "4. Write a Python program to convert key-values list to flat dictionary?"
   ]
  },
  {
   "cell_type": "code",
   "execution_count": 43,
   "metadata": {},
   "outputs": [
    {
     "name": "stdout",
     "output_type": "stream",
     "text": [
      "{'x': 1, 'y': 2, 'z': 3}\n"
     ]
    }
   ],
   "source": [
    "l= [{'x':1}, {'y':2}, {'z':3}]\n",
    "d={}\n",
    "for i in l:\n",
    "    d.update(i)\n",
    "print(d)"
   ]
  },
  {
   "cell_type": "markdown",
   "metadata": {},
   "source": [
    "5. Write a Python program to insertion at the beginning in OrderedDict?"
   ]
  },
  {
   "cell_type": "code",
   "execution_count": 46,
   "metadata": {},
   "outputs": [
    {
     "name": "stdout",
     "output_type": "stream",
     "text": [
      "before insertion OrderedDict([('x', 1), ('y', 2)])\n",
      "after insertion at beginning OrderedDict([('z', 3), ('x', 1), ('y', 2)])\n"
     ]
    }
   ],
   "source": [
    "from collections import OrderedDict\n",
    "d= OrderedDict([('x', 1), ('y',2)])\n",
    "print('before insertion',d)\n",
    "d.update({'z':3})\n",
    "d.move_to_end('z', last = False)\n",
    "print ('after insertion at beginning',d)"
   ]
  },
  {
   "cell_type": "markdown",
   "metadata": {},
   "source": [
    "6. Write a Python program to check order of character in string using OrderedDict()?"
   ]
  },
  {
   "cell_type": "code",
   "execution_count": 47,
   "metadata": {},
   "outputs": [
    {
     "name": "stdout",
     "output_type": "stream",
     "text": [
      "true\n"
     ]
    }
   ],
   "source": [
    "from collections import OrderedDict \n",
    "  \n",
    "def order(s, p): \n",
    "    dict = OrderedDict.fromkeys(s)  \n",
    "    lop = 0\n",
    "    for key,value in dict.items(): \n",
    "        if (key == p[lop]): \n",
    "            lop+=1\n",
    "        if (lop == (len(p))): \n",
    "            return 'true'\n",
    "    return 'false'\n",
    "  \n",
    "s= 'hello world'\n",
    "p = 'ewd'\n",
    "print (order(s,p)) "
   ]
  },
  {
   "cell_type": "markdown",
   "metadata": {},
   "source": [
    "7. Write a Python program to sort Python Dictionaries by Key or Value"
   ]
  },
  {
   "cell_type": "code",
   "execution_count": 51,
   "metadata": {},
   "outputs": [
    {
     "name": "stdout",
     "output_type": "stream",
     "text": [
      "('v', 'sita')\n",
      "('x', 'Vishnu')\n",
      "('y', 'Happy')\n",
      "('z', 'Ram')\n"
     ]
    }
   ],
   "source": [
    "d= {'x':'Vishnu','y':'Happy','z':'Ram','v':'sita'}\n",
    "for i in sorted(d.items()):\n",
    "    print(i)\n",
    "    "
   ]
  },
  {
   "cell_type": "code",
   "execution_count": null,
   "metadata": {},
   "outputs": [],
   "source": []
  }
 ],
 "metadata": {
  "kernelspec": {
   "display_name": "Python 3",
   "language": "python",
   "name": "python3"
  },
  "language_info": {
   "codemirror_mode": {
    "name": "ipython",
    "version": 3
   },
   "file_extension": ".py",
   "mimetype": "text/x-python",
   "name": "python",
   "nbconvert_exporter": "python",
   "pygments_lexer": "ipython3",
   "version": "3.7.3"
  }
 },
 "nbformat": 4,
 "nbformat_minor": 2
}
