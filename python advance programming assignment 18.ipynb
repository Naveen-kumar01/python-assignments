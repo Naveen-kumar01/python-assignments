{
 "cells": [
  {
   "cell_type": "markdown",
   "metadata": {},
   "source": [
    "Q1. A robot has been given a list of movement instructions. Each instruction is either left, right, up or down, followed by \n",
    "    a distance to move. The robot starts at [0, 0]. You want to calculate where the robot will end up and return its final\n",
    "    position as a list.\n",
    "    \n",
    "    To illustrate, if the robot is given the following instructions :['right 10', 'up 50', 'left 30', 'down 10']\n",
    "    It will end up 20 left and 40 up from where it started, so we return [-20, 40]."
   ]
  },
  {
   "cell_type": "code",
   "execution_count": 2,
   "metadata": {},
   "outputs": [
    {
     "data": {
      "text/plain": [
       "[-20, 40]"
      ]
     },
     "execution_count": 2,
     "metadata": {},
     "output_type": "execute_result"
    }
   ],
   "source": [
    "def track_robot(l):\n",
    "    l1=[]\n",
    "    position=[0,0]\n",
    "    for i in l:\n",
    "        s=i.split(' ')\n",
    "        l1.append(s)\n",
    "    for i in range(len(l1)):\n",
    "            if l1[i][0]=='right':\n",
    "                position[0]+=int(l1[i][1])\n",
    "            elif l1[i][0]=='up':\n",
    "                    position[1]+=int(l1[i][1])\n",
    "            elif l1[i][0]=='down':\n",
    "                    position[1]-=int(l1[i][1])\n",
    "            else:\n",
    "                position[0]-=int(l1[i][1])\n",
    "    return position\n",
    "l=['right 10', 'up 50', 'left 30', 'down 10']\n",
    "track_robot(l)"
   ]
  },
  {
   "cell_type": "markdown",
   "metadata": {},
   "source": [
    "Q2. Write a function that will return the longest word in a sentence. In cases where more than one word is found, return the\n",
    "    first one."
   ]
  },
  {
   "cell_type": "code",
   "execution_count": 3,
   "metadata": {},
   "outputs": [
    {
     "name": "stdout",
     "output_type": "stream",
     "text": [
      "enter string : Forgetfulness is by all means powerless!&\n"
     ]
    },
    {
     "data": {
      "text/plain": [
       "'Forgetfulness'"
      ]
     },
     "execution_count": 3,
     "metadata": {},
     "output_type": "execute_result"
    }
   ],
   "source": [
    "def find_longest(s):\n",
    "    max_len=0\n",
    "    longest_word=''\n",
    "    l=s.split(' ')\n",
    "    for i in l:\n",
    "        if len(i)>max_len:\n",
    "            max_len=len(i)\n",
    "            longest_word=i\n",
    "    return longest_word\n",
    "s=input('enter string : ')\n",
    "find_longest(s)"
   ]
  },
  {
   "cell_type": "markdown",
   "metadata": {},
   "source": [
    "Q3. Create a function to check if a candidate is qualified in an imaginary coding interview of an imaginary tech startup.\n",
    "    The criteria for a candidate to be qualified in the coding interview is:\n",
    "\n",
    "    1. The candidate should have complete all the questions.\n",
    "    2. The maximum time given to complete the interview is 120 minutes.\n",
    "    3. The maximum time given for very easy questions is 5 minutes each.\n",
    "    4. The maximum time given for easy questions is 10 minutes each.\n",
    "    5. The maximum time given for medium questions is 15 minutes each.\n",
    "    6. The maximum time given for hard questions is 20 minutes each.\n",
    "    \n",
    "    If all the above conditions are satisfied, return 'qualified', else return 'disqualified'. You will be given a list of \n",
    "    time taken by a candidate to solve a particular question and the total time taken by the candidate to complete the \n",
    "    interview. Given a list , in a true condition will always be in the format [very easy, very easy, easy, easy, medium, \n",
    "    medium, hard, hard].\n",
    "    \n",
    "    The maximum time to complete the interview includes a buffer time of 20minutes."
   ]
  },
  {
   "cell_type": "code",
   "execution_count": 4,
   "metadata": {},
   "outputs": [
    {
     "data": {
      "text/plain": [
       "'Qualified'"
      ]
     },
     "execution_count": 4,
     "metadata": {},
     "output_type": "execute_result"
    }
   ],
   "source": [
    "time_per_question=[5, 5, 10, 10, 15, 15, 20, 20]\n",
    "total_time=120\n",
    "def qualified(time_per_question,total_time):\n",
    "    c=0\n",
    "    if len(time_per_question)<=8:\n",
    "        if total_time<=120:\n",
    "            for i in range(0,len(time_per_question)-1,2):\n",
    "                if i==0:\n",
    "                    if time_per_question[i]<=5 and time_per_question[i+1]<=5:\n",
    "                        c+=1\n",
    "                    else:\n",
    "                        return \"Disqualified - Exceeded the time limit for very easy questions\"\n",
    "                elif i==2:\n",
    "                    if time_per_question[i]<=10 and time_per_question[i+1]<=10:\n",
    "                        c+=1\n",
    "                    else:\n",
    "                        return \"Disqualified - Exceeded the time limit for easy questions\"\n",
    "                elif i==4:\n",
    "                    if time_per_question[i]<=15 and time_per_question[i+1]<=15:\n",
    "                        c+=1\n",
    "                    else:\n",
    "                        return \"Disqualified - Exceeded the time limit for medium questions\"\n",
    "                elif i==6:\n",
    "                    if time_per_question[i]<=20 and time_per_question[i+1]<=20:\n",
    "                        c+=1\n",
    "                    else:\n",
    "                        return \"Disqualified - Exceeded the time limit for hard questions\"\n",
    "        else:\n",
    "            return \"Disqualified - Exceeded the total time limit\"\n",
    "    else:\n",
    "        return \"Disqualified - did not solved all the questions\"\n",
    "    if(c==4):\n",
    "        return 'Qualified'\n",
    "qualified(time_per_question,total_time)"
   ]
  },
  {
   "cell_type": "markdown",
   "metadata": {},
   "source": [
    "Q4. Write a function that divides a list into chunks of size n, where n is the length of each chunk."
   ]
  },
  {
   "cell_type": "code",
   "execution_count": 11,
   "metadata": {},
   "outputs": [
    {
     "name": "stdout",
     "output_type": "stream",
     "text": [
      "enter list - 2,4,6,5,1\n",
      "enter the size chunks - 2\n"
     ]
    },
    {
     "data": {
      "text/plain": [
       "[[2, 4], [6, 5], [1]]"
      ]
     },
     "execution_count": 11,
     "metadata": {},
     "output_type": "execute_result"
    }
   ],
   "source": [
    "def chunkify(l,n):\n",
    "    chunked_list = [l[i * n:(i + 1) * n] for i in range((len(l) + n - 1) // n )]\n",
    "    return chunked_list\n",
    "l=list(map(int,input('enter list - ').split(',')))\n",
    "n=int(input('enter the size chunks - '))\n",
    "chunkify(l,n)"
   ]
  },
  {
   "cell_type": "markdown",
   "metadata": {},
   "source": [
    "Q5. You are given a list of strings consisting of grocery items, with prices in parentheses. Return a list of prices in \n",
    "    float format."
   ]
  },
  {
   "cell_type": "code",
   "execution_count": 25,
   "metadata": {},
   "outputs": [
    {
     "name": "stdout",
     "output_type": "stream",
     "text": [
      "enter item price list - 'ice cream ($5.99)', 'banana ($0.20)', 'sandwich ($8.50)', 'soup ($1.99)'\n"
     ]
    },
    {
     "data": {
      "text/plain": [
       "[5.99, 0.2, 8.5, 1.99]"
      ]
     },
     "execution_count": 25,
     "metadata": {},
     "output_type": "execute_result"
    }
   ],
   "source": [
    "def get_prices(l): \n",
    "    l1=[]\n",
    "    for i in l:\n",
    "        s=i.split('$')\n",
    "        l1.append(s[1])\n",
    "    l2=[]\n",
    "    for i in l1:\n",
    "        s=i.split(')')\n",
    "        l2.append(float(s[0]))\n",
    "    return l2\n",
    "l=list(map(str,input('enter item price list - ').split(',')))\n",
    "get_prices(l)"
   ]
  },
  {
   "cell_type": "code",
   "execution_count": null,
   "metadata": {},
   "outputs": [],
   "source": []
  }
 ],
 "metadata": {
  "kernelspec": {
   "display_name": "Python 3",
   "language": "python",
   "name": "python3"
  },
  "language_info": {
   "codemirror_mode": {
    "name": "ipython",
    "version": 3
   },
   "file_extension": ".py",
   "mimetype": "text/x-python",
   "name": "python",
   "nbconvert_exporter": "python",
   "pygments_lexer": "ipython3",
   "version": "3.6.13"
  }
 },
 "nbformat": 4,
 "nbformat_minor": 2
}
