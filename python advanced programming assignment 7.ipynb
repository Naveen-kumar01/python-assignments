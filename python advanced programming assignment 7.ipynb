{
 "cells": [
  {
   "cell_type": "markdown",
   "metadata": {},
   "source": [
    "Q1. Write a function that counts how many concentric layers a rug."
   ]
  },
  {
   "cell_type": "code",
   "execution_count": 1,
   "metadata": {},
   "outputs": [
    {
     "name": "stdout",
     "output_type": "stream",
     "text": [
      "enter the pattern: 'AAAAAAAAAAA','AABBBBBBBAA','AABCCCCCBAA','AABCAAACBAA','AABCADACBAA','AABCAAACBAA','AABCCCCCBAA','AABBBBBBBAA','AAAAAAAAAAA'\n"
     ]
    },
    {
     "data": {
      "text/plain": [
       "5"
      ]
     },
     "execution_count": 1,
     "metadata": {},
     "output_type": "execute_result"
    }
   ],
   "source": [
    "d={}\n",
    "def count_layers(l):\n",
    "    count=0\n",
    "    for i in l:\n",
    "        if i in d:\n",
    "            d[i]+=1\n",
    "        else:\n",
    "            d[i]=1\n",
    "            count+=1\n",
    "    return(count)\n",
    "l1=list(map(str,input('enter the pattern: ').split(',')))\n",
    "count_layers(l1)"
   ]
  },
  {
   "cell_type": "markdown",
   "metadata": {},
   "source": [
    "Q2. There are many different styles of music and many albums exhibit multiple styles. Create a function that takes a list of musical styles from albums and returns how many styles are unique."
   ]
  },
  {
   "cell_type": "code",
   "execution_count": 5,
   "metadata": {},
   "outputs": [
    {
     "name": "stdout",
     "output_type": "stream",
     "text": [
      "enter the music type'Dub,Dancehall','Industrial,Heavy Metal','Techno,Dubstep','Synth-pop,Euro-Disco','Industrial,Techno,Minimal'\n"
     ]
    },
    {
     "data": {
      "text/plain": [
       "9"
      ]
     },
     "execution_count": 5,
     "metadata": {},
     "output_type": "execute_result"
    }
   ],
   "source": [
    "def unique_styles(p):\n",
    "    s=''\n",
    "    for i in p:\n",
    "        s+=','.join((i.split(\",\")))\n",
    "        s+=','\n",
    "    l1=s.split(',')\n",
    "    l1.pop(-1)\n",
    "    s1=set(l1)\n",
    "    return(len(s1))\n",
    "p=['Dub,Dancehall','Industrial,Heavy Metal','Techno,Dubstep','Synth-pop,Euro-Disco','Industrial,Techno,Minimal']\n",
    "unique_styles(p)"
   ]
  },
  {
   "cell_type": "markdown",
   "metadata": {},
   "source": [
    "Q3. Create a function that finds a target number in a list of prime numbers.Implement a binary search algorithm in your function. The target number will be from 2 through 97. If the target is prime then return 'yes' else return 'no'."
   ]
  },
  {
   "cell_type": "code",
   "execution_count": 6,
   "metadata": {},
   "outputs": [
    {
     "name": "stdout",
     "output_type": "stream",
     "text": [
      "enter number to search: 23\n",
      "yes\n"
     ]
    }
   ],
   "source": [
    "def binarySearch (arr, l, r, x):\n",
    "    if r >= l:\n",
    "        mid = l + (r - l) // 2\n",
    "        if arr[mid] == x:\n",
    "            return mid\n",
    "        elif arr[mid] > x:\n",
    "            return binarySearch(arr, l, mid-1, x)\n",
    "        else:\n",
    "            return binarySearch(arr, mid + 1, r, x)\n",
    "    else:\n",
    "        return -1\n",
    "def is_prime(l,num):\n",
    "    result=binarySearch(l,0,len(primes)-1,key)\n",
    "    if result != -1:\n",
    "        print('yes')\n",
    "    else:\n",
    "        print(\"no\")\n",
    "               \n",
    "primes = [2, 3, 5, 7, 11, 13, 17, 19, 23, 29, 31, 37, 41, 43, 47, 53, 59, 61, 67,71, 73, 79, 83, 89, 97]\n",
    "key=int(input('enter number to search: '))\n",
    "is_prime(primes,key)\n"
   ]
  },
  {
   "cell_type": "markdown",
   "metadata": {},
   "source": [
    "Q4. Create a function that takes in n, a, b and returns the number of positive values raised to the nth power that lie in \n",
    "the range [a, b], inclusive."
   ]
  },
  {
   "cell_type": "code",
   "execution_count": 7,
   "metadata": {},
   "outputs": [
    {
     "name": "stdout",
     "output_type": "stream",
     "text": [
      "enter lower range250\n",
      "enter upper range1400\n",
      "enter the power num4\n"
     ]
    },
    {
     "data": {
      "text/plain": [
       "3"
      ]
     },
     "execution_count": 7,
     "metadata": {},
     "output_type": "execute_result"
    }
   ],
   "source": [
    "def power_ranger(n,a,b):\n",
    "    count=0\n",
    "    for i in range(b):\n",
    "         if i**n>a and i**n<b:\n",
    "                count+=1\n",
    "    return count        \n",
    "a=int(input('enter lower range'))\n",
    "b=int(input('enter upper range'))\n",
    "n=int(input('enter the power num'))\n",
    "power_ranger(n,a,b)"
   ]
  },
  {
   "cell_type": "markdown",
   "metadata": {},
   "source": [
    "Q5. Given a number, return the difference between the maximum and minimum numbers that can be formed when the digits are rearranged."
   ]
  },
  {
   "cell_type": "code",
   "execution_count": 8,
   "metadata": {},
   "outputs": [
    {
     "name": "stdout",
     "output_type": "stream",
     "text": [
      "972882\n"
     ]
    },
    {
     "data": {
      "text/plain": [
       "760833"
      ]
     },
     "execution_count": 8,
     "metadata": {},
     "output_type": "execute_result"
    }
   ],
   "source": [
    "def smallest_num(num):\n",
    "    s1=''\n",
    "    s=list(str(num))\n",
    "    s.sort()\n",
    "    s1+=''.join(s)\n",
    "    num=int(s1)\n",
    "    return num\n",
    "def rearranged_difference(n):\n",
    "    n1=largest_num(n)\n",
    "    n2=smallest_num(n)\n",
    "    return n1-n2\n",
    "def largest_num(num):\n",
    "    s1=''\n",
    "    s=list(str(num))\n",
    "    s.sort(reverse=True)\n",
    "    s1+=''.join(s)\n",
    "    num=int(s1)\n",
    "    return num\n",
    "n=int(input())\n",
    "rearranged_difference(n)"
   ]
  },
  {
   "cell_type": "code",
   "execution_count": null,
   "metadata": {},
   "outputs": [],
   "source": []
  }
 ],
 "metadata": {
  "kernelspec": {
   "display_name": "Python 3",
   "language": "python",
   "name": "python3"
  },
  "language_info": {
   "codemirror_mode": {
    "name": "ipython",
    "version": 3
   },
   "file_extension": ".py",
   "mimetype": "text/x-python",
   "name": "python",
   "nbconvert_exporter": "python",
   "pygments_lexer": "ipython3",
   "version": "3.6.13"
  }
 },
 "nbformat": 4,
 "nbformat_minor": 2
}
