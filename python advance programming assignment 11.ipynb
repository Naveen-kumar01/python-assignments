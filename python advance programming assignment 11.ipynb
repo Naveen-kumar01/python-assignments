{
 "cells": [
  {
   "cell_type": "markdown",
   "metadata": {},
   "source": [
    "Q1. Create a function that takes a list and returns a new list containing only prime numbers."
   ]
  },
  {
   "cell_type": "code",
   "execution_count": 2,
   "metadata": {},
   "outputs": [
    {
     "name": "stdout",
     "output_type": "stream",
     "text": [
      "enter list - 7, 9, 3, 9, 10, 11, 27\n"
     ]
    },
    {
     "data": {
      "text/plain": [
       "[7, 3, 11]"
      ]
     },
     "execution_count": 2,
     "metadata": {},
     "output_type": "execute_result"
    }
   ],
   "source": [
    "def findprime(num):\n",
    "    a=0\n",
    "    for i in range(1,num+1):\n",
    "        if num%i==0:\n",
    "            a+=1\n",
    "    if a>2:\n",
    "        return False\n",
    "    else:\n",
    "        return True\n",
    "def filter_prime(l):\n",
    "    l1=[]\n",
    "    for i in l:\n",
    "        if findprime(i)==True:\n",
    "            l1.append(i)\n",
    "    return l1\n",
    "l=list(map(int,input('enter list - ').split(',')))\n",
    "filter_prime(l)"
   ]
  },
  {
   "cell_type": "markdown",
   "metadata": {},
   "source": [
    "Q2. Once a water balloon pops, is soaks the area around it. The ground gets drier the further away you travel from the \n",
    "balloon. The effect of a water balloon popping can be modeled using a list. Create a function that takes a list which takes \n",
    "the pre-pop state and returns the state after the balloon is popped. The pre-pop state will contain at most a single\n",
    "balloon, whose size is represented by the only non-zero element."
   ]
  },
  {
   "cell_type": "code",
   "execution_count": 3,
   "metadata": {},
   "outputs": [
    {
     "name": "stdout",
     "output_type": "stream",
     "text": [
      "enter the list - 0, 0, 0, 0, 0, 5, 0, 0, 0, 0, 0\n"
     ]
    },
    {
     "data": {
      "text/plain": [
       "[0, 1, 2, 3, 4, 5, 4, 3, 2, 1, 0]"
      ]
     },
     "execution_count": 3,
     "metadata": {},
     "output_type": "execute_result"
    }
   ],
   "source": [
    "def pop(l):\n",
    "    mid=len(l)//2\n",
    "    for i in range(0,mid):\n",
    "        l[i]=i\n",
    "        l[mid+i+1]=mid-i-1\n",
    "    return l\n",
    "l=list(map(int,input('enter the list - ').split(',')))\n",
    "pop(l)"
   ]
  },
  {
   "cell_type": "markdown",
   "metadata": {},
   "source": [
    "Q3. 'Loves me', 'loves me not' is a traditional game in which a person plucks off all the petals of a flower one by one, \n",
    "saying the phrase 'Loves me' and 'Loves me not' when determining whether the one that they love, loves them back.\n",
    "Given a number of petals, return a string which repeats the phrases 'Loves me' and 'Loves me not' for every alternating \n",
    "petal, and return the last phrase in all caps. Remember to put a comma and space between phrases."
   ]
  },
  {
   "cell_type": "code",
   "execution_count": 5,
   "metadata": {},
   "outputs": [
    {
     "name": "stdout",
     "output_type": "stream",
     "text": [
      "enter number - 9\n"
     ]
    },
    {
     "data": {
      "text/plain": [
       "'LOVES ME'"
      ]
     },
     "execution_count": 5,
     "metadata": {},
     "output_type": "execute_result"
    }
   ],
   "source": [
    "def loves_me(num):\n",
    "    if num%2==0:\n",
    "        return \"LOVES ME NOT\"\n",
    "    else:\n",
    "        return \"LOVES ME\"\n",
    "n=int(input('enter number - '))\n",
    "loves_me(n)"
   ]
  },
  {
   "cell_type": "code",
   "execution_count": null,
   "metadata": {},
   "outputs": [],
   "source": [
    "Q4. Write a function that sorts each string in a list by the letter in alphabetic ascending order (a-z)."
   ]
  },
  {
   "cell_type": "code",
   "execution_count": 6,
   "metadata": {},
   "outputs": [
    {
     "name": "stdout",
     "output_type": "stream",
     "text": [
      "enter list - 932c, 832u32, 2344b\n"
     ]
    },
    {
     "data": {
      "text/plain": [
       "[' 2344b', '932c', ' 832u32']"
      ]
     },
     "execution_count": 6,
     "metadata": {},
     "output_type": "execute_result"
    }
   ],
   "source": [
    "def sort_by_letter(l): \n",
    "    l1=[]\n",
    "    min=122\n",
    "    for i in l:\n",
    "        for j in i:\n",
    "            if ord(j)>=97 and ord(j)<=122:\n",
    "                if min <=ord(j):\n",
    "                    l1.append(i)\n",
    "                    min=ord(j)\n",
    "                else:\n",
    "                    l1.insert(0,i)\n",
    "                    min=ord(j)\n",
    "    return l1\n",
    "l=list(map(str,input('enter list - ').split(',')))\n",
    "sort_by_letter(l)"
   ]
  },
  {
   "cell_type": "code",
   "execution_count": null,
   "metadata": {},
   "outputs": [],
   "source": [
    "Q5. There are three cups on a table, at positions A, B, and C. At the start, there is a ball hidden under the cup at \n",
    "position B. However, I perform several swaps on the cups, which is notated as two letters. For example, if I swap the cups \n",
    "at positions A and B, I could notate this as AB or BA. Create a function that returns the letter position that the ball is \n",
    "at, once I finish swapping the cups. The swaps will be given to you as a list."
   ]
  },
  {
   "cell_type": "code",
   "execution_count": 7,
   "metadata": {},
   "outputs": [
    {
     "name": "stdout",
     "output_type": "stream",
     "text": [
      "enter swapping pattern - AB,CA,AB\n",
      "the ball is under the cup -  C\n"
     ]
    }
   ],
   "source": [
    "def arrange(str):\n",
    "    for i in range(len(str)):\n",
    "        if str[i] in d and d[str[i]]==1:\n",
    "            if str[0]!=str[i]:\n",
    "                d[str[0]]=1\n",
    "                d[str[i]]=0\n",
    "d={'A':0,'B':1,'C':0}\n",
    "l=list(map(str,input('enter swapping pattern - ').split(',')))\n",
    "for i in l:\n",
    "    arrange(i) \n",
    "for i in d:\n",
    "        if d[i]==1:\n",
    "            print(\"the ball is under the cup - \",i)"
   ]
  },
  {
   "cell_type": "code",
   "execution_count": null,
   "metadata": {},
   "outputs": [],
   "source": []
  }
 ],
 "metadata": {
  "kernelspec": {
   "display_name": "Python 3",
   "language": "python",
   "name": "python3"
  },
  "language_info": {
   "codemirror_mode": {
    "name": "ipython",
    "version": 3
   },
   "file_extension": ".py",
   "mimetype": "text/x-python",
   "name": "python",
   "nbconvert_exporter": "python",
   "pygments_lexer": "ipython3",
   "version": "3.6.13"
  }
 },
 "nbformat": 4,
 "nbformat_minor": 2
}
