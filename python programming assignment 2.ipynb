{
 "cells": [
  {
   "cell_type": "markdown",
   "metadata": {},
   "source": [
    "1. Write a Python program to convert kilometers to miles?"
   ]
  },
  {
   "cell_type": "code",
   "execution_count": 9,
   "metadata": {},
   "outputs": [
    {
     "name": "stdout",
     "output_type": "stream",
     "text": [
      "enter distance in kilometers : 10\n",
      "6.25 miles\n"
     ]
    }
   ],
   "source": [
    "x=int(input('enter distance in kilometers : '))\n",
    "res=x/1.6\n",
    "print(str(res)+' miles')"
   ]
  },
  {
   "cell_type": "markdown",
   "metadata": {},
   "source": [
    "2. Write a Python program to convert Celsius to Fahrenheit?"
   ]
  },
  {
   "cell_type": "code",
   "execution_count": 10,
   "metadata": {},
   "outputs": [
    {
     "name": "stdout",
     "output_type": "stream",
     "text": [
      "enter temp. in celcius : 36.6\n",
      "temp. in farenheit is :  97.88000000000001\n"
     ]
    }
   ],
   "source": [
    "temp=float(input('enter temp. in celcius : '))\n",
    "res=(temp * 1.8) + 32\n",
    "print('temp. in farenheit is : ',res)"
   ]
  },
  {
   "cell_type": "markdown",
   "metadata": {},
   "source": [
    "3. Write a Python program to display calendar?"
   ]
  },
  {
   "cell_type": "code",
   "execution_count": null,
   "metadata": {},
   "outputs": [],
   "source": [
    "import calender as c\n",
    "print(c.calender(2021))"
   ]
  },
  {
   "cell_type": "markdown",
   "metadata": {},
   "source": [
    "4. Write a Python program to solve quadratic equation?"
   ]
  },
  {
   "cell_type": "code",
   "execution_count": 29,
   "metadata": {},
   "outputs": [
    {
     "name": "stdout",
     "output_type": "stream",
     "text": [
      "1 5 6\n",
      "x =  -3.0\n",
      "x =  -2.0\n"
     ]
    }
   ],
   "source": [
    "#the a,b and c are the numbers in quadratic equation ax**2 +bx + c\n",
    "a,b,c=map(int,input().split())\n",
    "# as the d=b**2 - 4*a*c\n",
    "d=(b**2) - (4*a*c)\n",
    "\n",
    "# fo result import math class for suare root calculation\n",
    "import math\n",
    "if d > 0:\n",
    "    res1 = (-b-math.sqrt(d))/(2*a)\n",
    "    res2 = (-b+math.sqrt(d))/(2*a)\n",
    "      \n",
    "elif d == 0:\n",
    "    res1=(-b / (2 * a)) \n",
    "    res2=(-b / (2 * a))\n",
    "else:\n",
    "    print(' complex roots')\n",
    "print('x = ',res1)\n",
    "print('x = ',res2)"
   ]
  },
  {
   "cell_type": "markdown",
   "metadata": {},
   "source": [
    "5. Write a Python program to swap two variables without temp variable?"
   ]
  },
  {
   "cell_type": "code",
   "execution_count": 28,
   "metadata": {},
   "outputs": [
    {
     "name": "stdout",
     "output_type": "stream",
     "text": [
      "value of a before swap :  10\n",
      "value of b before swap :  5\n",
      "value of a after swap :  5\n",
      "value of b after swap :  10\n"
     ]
    }
   ],
   "source": [
    "a=10\n",
    "b=5\n",
    "print('value of a before swap : ',a)\n",
    "print('value of b before swap : ',b)\n",
    "a,b=b,a\n",
    "print('value of a after swap : ',a)\n",
    "print('value of b after swap : ',b)"
   ]
  },
  {
   "cell_type": "code",
   "execution_count": null,
   "metadata": {},
   "outputs": [],
   "source": []
  }
 ],
 "metadata": {
  "kernelspec": {
   "display_name": "Python 3",
   "language": "python",
   "name": "python3"
  },
  "language_info": {
   "codemirror_mode": {
    "name": "ipython",
    "version": 3
   },
   "file_extension": ".py",
   "mimetype": "text/x-python",
   "name": "python",
   "nbconvert_exporter": "python",
   "pygments_lexer": "ipython3",
   "version": "3.7.3"
  }
 },
 "nbformat": 4,
 "nbformat_minor": 2
}
