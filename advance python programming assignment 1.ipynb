{
 "cells": [
  {
   "cell_type": "markdown",
   "metadata": {},
   "source": [
    "1. Write a function that takes a list of lists and returns the value of all of the symbols in it, where each symbol adds or takes something from the total score. Symbol values:\n",
    "# = 5\n",
    "O = 3\n",
    "X = 1\n",
    "! = -1\n",
    "!! = -3\n",
    "!!! = -5\n",
    "A list of lists containing 2 #s, a O, and a !!! would equal (0 + 5 + 5 + 3 - 5) 8.If the final score is negative, return 0"
   ]
  },
  {
   "cell_type": "code",
   "execution_count": 19,
   "metadata": {},
   "outputs": [
    {
     "name": "stdout",
     "output_type": "stream",
     "text": [
      "2\n"
     ]
    }
   ],
   "source": [
    "d={'#':5,'O':3,'X': 1,'!' :-1,'!!' :-3,'!!!' : -5}\n",
    "def score(l):\n",
    "    res=0\n",
    "    for i in l:\n",
    "        if type(i)==list:\n",
    "            for j in i:\n",
    "                res+=d[j]\n",
    "    if(res<0):\n",
    "        return 0\n",
    "    else:\n",
    "        return res\n",
    "l=[['#', '!'],['!!','X']]\n",
    "print(score(l))\n",
    "\n",
    "            "
   ]
  },
  {
   "cell_type": "markdown",
   "metadata": {},
   "source": [
    "2. Create a function that takes a variable number of arguments, each argument representing the number of items in a group, and returns the number of permutations (combinations) of items that you could get by taking one item from each group.\n",
    "Examples\n",
    "combinations(2, 3) ➞ 6"
   ]
  },
  {
   "cell_type": "code",
   "execution_count": 22,
   "metadata": {},
   "outputs": [
    {
     "name": "stdout",
     "output_type": "stream",
     "text": [
      "6\n",
      "84\n",
      "120\n"
     ]
    }
   ],
   "source": [
    "def combinations(*args):\n",
    "    l=list(args)\n",
    "    res=1\n",
    "    for i in l:\n",
    "        res*=i\n",
    "    return res\n",
    "print(combinations(2, 3))\n",
    "print(combinations(3, 7, 4))\n",
    "print(combinations(2, 3, 4, 5))\n",
    "    "
   ]
  },
  {
   "cell_type": "markdown",
   "metadata": {},
   "source": [
    "3. Create a function that takes a string as an argument and returns the Morse code equivalent."
   ]
  },
  {
   "cell_type": "code",
   "execution_count": 27,
   "metadata": {},
   "outputs": [
    {
     "name": "stdout",
     "output_type": "stream",
     "text": [
      "EDABBIT CHALLENGE\n",
      ".-...--...-.....--.-......-.-...-...-.--..\n"
     ]
    }
   ],
   "source": [
    "char_to_dots = { 'A':'.-', 'B':'-...',\n",
    "                    'C':'-.-.', 'D':'-..', 'E':'.',\n",
    "                    'F':'..-.', 'G':'--.', 'H':'....',\n",
    "                    'I':'..', 'J':'.---', 'K':'-.-',\n",
    "                    'L':'.-..', 'M':'--', 'N':'-.',\n",
    "                    'O':'---', 'P':'.--.', 'Q':'--.-',\n",
    "                    'R':'.-.', 'S':'...', 'T':'-',\n",
    "                    'U':'..-', 'V':'...-', 'W':'.--',\n",
    "                    'X':'-..-', 'Y':'-.--', 'Z':'--..',\n",
    "                    '1':'.----', '2':'..---', '3':'...--',\n",
    "                    '4':'....-', '5':'.....', '6':'-....',\n",
    "                    '7':'--...', '8':'---..', '9':'----.',\n",
    "                    '0':'-----', ', ':'--..--', '.':'.-.-.-',\n",
    "                    '?':'..--..', '/':'-..-.', '-':'-....-',\n",
    "                    '(':'-.--.', ')':'-.--.-'}\n",
    "def encode_morse(s):\n",
    "    l=list(s)\n",
    "    res=''\n",
    "    for i in l:\n",
    "        if i in char_to_dots:\n",
    "            res+=char_to_dots[i]\n",
    "    return res\n",
    "\n",
    "s=input()\n",
    "print(encode_morse(s))\n"
   ]
  },
  {
   "cell_type": "code",
   "execution_count": 32,
   "metadata": {},
   "outputs": [
    {
     "name": "stdout",
     "output_type": "stream",
     "text": [
      "False\n"
     ]
    }
   ],
   "source": [
    "import math\n",
    "import time\n",
    "def prime(n):\n",
    "    if n <= 1:\n",
    "        return False\n",
    "    max_div = math.floor(math.sqrt(n))\n",
    "    for i in range(2, 1 + max_div):\n",
    "        if n % i == 0:\n",
    "            return False\n",
    "    return True\n",
    "\n",
    "x=prime(5151512515524)\n",
    "print(x)"
   ]
  },
  {
   "cell_type": "markdown",
   "metadata": {},
   "source": [
    "5. Create a function that converts a word to a bitstring and then to a boolean list based on the following criteria:\n",
    "   1. Locate the position of the letter in the English alphabet (from 1 to 26).\n",
    "   2. Odd positions will be represented as 1 and 0 otherwise.\n",
    "   3. Convert the represented positions to boolean values, 1 for True and 0 for False.\n",
    "   4. Store the conversions into an array."
   ]
  },
  {
   "cell_type": "code",
   "execution_count": 60,
   "metadata": {},
   "outputs": [
    {
     "name": "stdout",
     "output_type": "stream",
     "text": [
      "['false', 'true', 'true', 'false']\n",
      "['false', 'true', 'false', 'true', 'true']\n",
      "['false', 'true', 'true', 'false']\n"
     ]
    }
   ],
   "source": [
    "d={ 'a':'1', 'b':'2',\n",
    "    'c':'3', 'd':'4', 'e':'5',\n",
    "    'f':'6', 'g':'7', 'h':'8',\n",
    "    'i':'9', 'j':'10', 'k':'11',\n",
    "    'l':'12', 'm':'13', 'n':'14',\n",
    "    'o':'15', 'p':'16', 'q':'17',\n",
    "    'r':'18', 's':'19', 't':'20',\n",
    "    'u':'21', 'v':'22', 'w':'23',\n",
    "    'x':'24', 'y':'25', 'z':'26'\n",
    "  }\n",
    "def bool_list(s):\n",
    "    l1=[]\n",
    "    l=list(s)\n",
    "    for i in l:\n",
    "        if i in d:\n",
    "            if int(d[i])%2==0:\n",
    "                l1.append(0)\n",
    "            else:\n",
    "                l1.append(1)\n",
    "    l2=[]\n",
    "    for i in l1:\n",
    "        if i==1:\n",
    "            l2.append('true')\n",
    "        else:\n",
    "            l2.append('false')\n",
    "    return l2\n",
    "\n",
    "print(bool_list('deep'))\n",
    "print(bool_list('loves'))\n",
    "print(bool_list('tesh'))"
   ]
  },
  {
   "cell_type": "code",
   "execution_count": null,
   "metadata": {},
   "outputs": [],
   "source": []
  }
 ],
 "metadata": {
  "kernelspec": {
   "display_name": "Python 3",
   "language": "python",
   "name": "python3"
  }
 },
 "nbformat": 4,
 "nbformat_minor": 2
}
