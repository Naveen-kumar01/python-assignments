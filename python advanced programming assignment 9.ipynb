{
 "cells": [
  {
   "cell_type": "markdown",
   "metadata": {},
   "source": [
    "Q1. YouTube offers different playback speed options for users. This allows users to increase or decrease the speed of the \n",
    "video content. Given the actual duration and playback speed of the video, calculate the playback duration of the video."
   ]
  },
  {
   "cell_type": "code",
   "execution_count": 1,
   "metadata": {},
   "outputs": [
    {
     "name": "stdout",
     "output_type": "stream",
     "text": [
      "01:23:00\n",
      "2\n"
     ]
    },
    {
     "data": {
      "text/plain": [
       "'0:41:30'"
      ]
     },
     "execution_count": 1,
     "metadata": {},
     "output_type": "execute_result"
    }
   ],
   "source": [
    "import datetime\n",
    "import time\n",
    "\n",
    "def playback_duration(s,num):\n",
    "    x = time.strptime(s.split(',')[0],'%H:%M:%S')\n",
    "    m=datetime.timedelta(hours=x.tm_hour,minutes=x.tm_min,seconds=x.tm_sec).total_seconds()\n",
    "    ans=m//num\n",
    "    res=str(datetime.timedelta(seconds = ans))\n",
    "    return (res)\n",
    "s=input()\n",
    "num=float(input())\n",
    "playback_duration(s,num)"
   ]
  },
  {
   "cell_type": "markdown",
   "metadata": {},
   "source": [
    "Q2. We needs your help to construct a building which will be a pile of n cubes. The cube at the bottom will have a volume \n",
    "of n^3, the cube above will have volume of (n-1)^3 and so on until the top which will have a volume of 1^3. Given the total \n",
    "volume m of the building, can you find the number of cubes n required for the building?\n",
    "In other words, you have to return an integer n such that:\n",
    "n^3 + (n-1)^3 + ... + 1^3 == m\n",
    "Return None if there is no such number."
   ]
  },
  {
   "cell_type": "code",
   "execution_count": 2,
   "metadata": {},
   "outputs": [
    {
     "name": "stdout",
     "output_type": "stream",
     "text": [
      "4183059834009\n"
     ]
    },
    {
     "data": {
      "text/plain": [
       "2022"
      ]
     },
     "execution_count": 2,
     "metadata": {},
     "output_type": "execute_result"
    }
   ],
   "source": [
    "def pile_of_cube(num):\n",
    "    sum=0\n",
    "    for i in range(num):\n",
    "        sum+=i**3\n",
    "        if (sum==num):\n",
    "            return i\n",
    "        if sum >num :\n",
    "            return \"None\"\n",
    "num=int(input())\n",
    "pile_of_cube(num)        "
   ]
  },
  {
   "cell_type": "markdown",
   "metadata": {},
   "source": [
    "Q3. A fulcrum of a list is an integer such that all elements to the left of it and all elements to the right of it sum to the same value. Write a function that finds the fulcrum of a list.\n",
    "To illustrate:\n",
    "find_fulcrum([3, 1, 5, 2, 4, 6, -1]) ➞ 2\n",
    "// Since [3, 1, 5] and [4, 6, -1] both sum to 9"
   ]
  },
  {
   "cell_type": "code",
   "execution_count": 3,
   "metadata": {},
   "outputs": [
    {
     "name": "stdout",
     "output_type": "stream",
     "text": [
      "1 2 4 9 10 -10 -9 3\n",
      "4\n"
     ]
    }
   ],
   "source": [
    "def find_fulcrum(l,mid):\n",
    "    sum1=0\n",
    "    sum2=0\n",
    "    for i in range(0,mid):\n",
    "        sum1+=l[i]\n",
    "    for i in range(mid+1,size):\n",
    "        sum2+=l[i]\n",
    "    if(sum1==sum2):\n",
    "        print(l[mid])\n",
    "    else:\n",
    "        find_fulcrum(l,mid-1)\n",
    "l=list(map(int,input().split()))\n",
    "size=len(l)\n",
    "min=0\n",
    "mid=size//2\n",
    "find_fulcrum(l,mid)"
   ]
  },
  {
   "cell_type": "markdown",
   "metadata": {},
   "source": [
    "Q4. Given a list of integers representing the color of each sock, determine how many pairs of socks with matching colors \n",
    "there are. For example, there are 7 socks with colors [1, 2, 1, 2, 1, 3, 2]. There is one pair of color 1 and one of\n",
    "color 2. There are three odd socks left, one of each color. The number of pairs is 2.\n",
    "Create a function that returns an integer representing the number of matching pairs of socks that \n",
    "are available."
   ]
  },
  {
   "cell_type": "code",
   "execution_count": 4,
   "metadata": {},
   "outputs": [
    {
     "name": "stdout",
     "output_type": "stream",
     "text": [
      "1,2,1,2,1,3,2\n"
     ]
    },
    {
     "data": {
      "text/plain": [
       "2"
      ]
     },
     "execution_count": 4,
     "metadata": {},
     "output_type": "execute_result"
    }
   ],
   "source": [
    "def sock_merchant(l):\n",
    "    d={}\n",
    "    count=0\n",
    "    for i in l:\n",
    "        if i in d:\n",
    "            d[i]+=1\n",
    "        else:\n",
    "            d[i]=1\n",
    "    for i in d.values():\n",
    "        count+=i//2\n",
    "    if(l is None):\n",
    "        return 0\n",
    "    else:\n",
    "        return count\n",
    "l=list(map(int,input().split(',')))\n",
    "sock_merchant(l)"
   ]
  },
  {
   "cell_type": "markdown",
   "metadata": {},
   "source": [
    "Q5. Create a function that takes a string containing integers as well as other characters and return the sum of the negative\n",
    "integers only."
   ]
  },
  {
   "cell_type": "code",
   "execution_count": 5,
   "metadata": {},
   "outputs": [
    {
     "name": "stdout",
     "output_type": "stream",
     "text": [
      "22 13%14&;-11-22 13 12\n"
     ]
    },
    {
     "data": {
      "text/plain": [
       "-33"
      ]
     },
     "execution_count": 5,
     "metadata": {},
     "output_type": "execute_result"
    }
   ],
   "source": [
    "def negative_sum(s):\n",
    "    l=list(s)\n",
    "    l1=[]\n",
    "    for i in range(len(l)):\n",
    "        if ord(l[i])==45:\n",
    "            l1.append(l[i])\n",
    "            for j in range(i+1,len(l)):\n",
    "                if(ord(l[j])>=48 and ord(l[j])<=57):\n",
    "                    l1.append(l[j])\n",
    "                else:\n",
    "                    break\n",
    "    s=''.join(l1)\n",
    "    return eval(s)\n",
    "s=input()\n",
    "negative_sum(s)"
   ]
  },
  {
   "cell_type": "code",
   "execution_count": null,
   "metadata": {},
   "outputs": [],
   "source": []
  }
 ],
 "metadata": {
  "kernelspec": {
   "display_name": "Python 3",
   "language": "python",
   "name": "python3"
  },
  "language_info": {
   "codemirror_mode": {
    "name": "ipython",
    "version": 3
   },
   "file_extension": ".py",
   "mimetype": "text/x-python",
   "name": "python",
   "nbconvert_exporter": "python",
   "pygments_lexer": "ipython3",
   "version": "3.7.3"
  }
 },
 "nbformat": 4,
 "nbformat_minor": 2
}
