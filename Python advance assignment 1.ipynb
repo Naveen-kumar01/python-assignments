{
 "cells": [
  {
   "cell_type": "markdown",
   "metadata": {},
   "source": [
    "Q1. What is the purpose of Python's OOP?"
   ]
  },
  {
   "cell_type": "markdown",
   "metadata": {},
   "source": [
    "A1- The purpose of using the OOP's is that it makes the code reusable, understanding of the code becomes easy for others.\n",
    "     There are many unctionalities in the oops programming-\n",
    "     1. Inheritance\n",
    "     2. Encapsulation\n",
    "     3. Polymorphism\n",
    "     4. Data Abstraction\n",
    "     These functionality are not present in the procedural programming."
   ]
  },
  {
   "cell_type": "markdown",
   "metadata": {},
   "source": [
    "Q2. Where does an inheritance search look for an attribute?"
   ]
  },
  {
   "cell_type": "markdown",
   "metadata": {},
   "source": [
    "A2- When we are looking for an attribute in a class then it tries to search the object in the tree based structure,\n",
    "    it searches a tree of linked objects, looking for the first appearance of attribute in the structure, the expression is         effectively translates to the following in natural language:\n",
    "    Find the first occurrence of attribute by looking in object, then in all classes above it, from bottom to top and left to \n",
    "    right.As the search proceeds from the bottom up, the objects linked into a tree are the union of all the attributes defined     in all their tree parents, all the way up the tree.\n",
    "    For example - \n",
    "    If Class A1,A2 are derived from the Class Q1 and Q2, then the attribute will be first looked in the class A1 ,A2 and then       in the above classes Q1, Q2."
   ]
  },
  {
   "cell_type": "markdown",
   "metadata": {},
   "source": [
    "Q3. How do you distinguish between a class object and an instance object?"
   ]
  },
  {
   "cell_type": "markdown",
   "metadata": {},
   "source": [
    "A3- Whenever a class is created, it contains some static variables which can be accessed using the class name itself, \n",
    "    this is an example of the class object. The class object can only be creaed once when a class is defined.\n",
    "    The instance object is created when we are creating the object of class with parenthesis and passing the values that \n",
    "    are required by the init function which is like a constructor, Hence we can create as many instance object as we want in \n",
    "    the class.\n",
    "    \n",
    "    class Car:\n",
    "         x=10\n",
    "         def __init__(self,a):\n",
    "              self.a=a\n",
    "         def disp(self):\n",
    "             print(self.a)\n",
    "    c1=Car(100)      ------>   this is instance object\n",
    "    \n",
    "    print(Car.x)     ------>   this is class object"
   ]
  },
  {
   "cell_type": "markdown",
   "metadata": {},
   "source": [
    "Q4. What makes the first argument in a class’s method function special?"
   ]
  },
  {
   "cell_type": "markdown",
   "metadata": {},
   "source": [
    "A4- The first argument in the class's method function is self, which refers to the current instance object. All the methods in     the class should contain a self argument. The first parameter of methods is the instance the method is called on by object     of the class.\n",
    "    for example- \n",
    "    class check:\n",
    "         def __init__(self,a):\n",
    "              self.a=a\n",
    "              print('hello')\n",
    "         def disp(self):\n",
    "             print(self.a)\n",
    "    obj = check(10)\n",
    "    obj.disp()"
   ]
  },
  {
   "cell_type": "markdown",
   "metadata": {},
   "source": [
    "Q5. What is the purpose of the __init__ method?"
   ]
  },
  {
   "cell_type": "markdown",
   "metadata": {},
   "source": [
    "A5- The __init__ method is just like the constructor method in java, as soon as the object of the class is created its the \n",
    "    first method that is executed in the system memory and that is why the variables are declared in the init function. It \n",
    "    also defines the size required by a single object of the class as all the variable are defined in init method and as \n",
    "    soon as object gets created memory is allocated to the object in the mmemory stack."
   ]
  },
  {
   "cell_type": "markdown",
   "metadata": {},
   "source": [
    "Q6. What is the process for creating a class instance?"
   ]
  },
  {
   "cell_type": "code",
   "execution_count": 15,
   "metadata": {},
   "outputs": [
    {
     "name": "stdout",
     "output_type": "stream",
     "text": [
      "100\n",
      "10\n"
     ]
    }
   ],
   "source": [
    "class Car:\n",
    "    x=10\n",
    "    def __init__(self,a):\n",
    "        self.a=a\n",
    "    def disp(self):\n",
    "        print(self.a)\n",
    "    \n",
    "c1=Car(100)\n",
    "c1.disp()\n",
    "print(Car.x)"
   ]
  },
  {
   "cell_type": "markdown",
   "metadata": {},
   "source": [
    "Q7. What is the process for creating a class?"
   ]
  },
  {
   "cell_type": "markdown",
   "metadata": {},
   "source": [
    "A7- The process of creating a class is as follows-\n",
    "    1. create a class\n",
    "    2. define the __init__ method\n",
    "    3. define the other methods\n",
    "    4. define the object of the class\n",
    "    5. use the class object to access the methods and variables."
   ]
  },
  {
   "cell_type": "markdown",
   "metadata": {},
   "source": [
    "Q8. How would you define the superclasses of a class?"
   ]
  },
  {
   "cell_type": "markdown",
   "metadata": {},
   "source": [
    "A8- The class which is inherited by another class is called as the superclass of the current class which inherited it.\n",
    "    There is class car and another class bmw inherits the the car class. Now the car class is superclass of bmw class.\n",
    "    class Car:\n",
    "       x=10\n",
    "       def __init__(self,a):\n",
    "          self.a=a\n",
    "       def disp(self):\n",
    "          print(self.a)\n",
    "    class BMW(Car):\n",
    "        def __init__(self):\n",
    "            print(\"bmw class\")\n",
    "    b=BMW()\n",
    "    b.disp()"
   ]
  }
 ],
 "metadata": {
  "kernelspec": {
   "display_name": "Python 3",
   "language": "python",
   "name": "python3"
  },
  "language_info": {
   "codemirror_mode": {
    "name": "ipython",
    "version": 3
   },
   "file_extension": ".py",
   "mimetype": "text/x-python",
   "name": "python",
   "nbconvert_exporter": "python",
   "pygments_lexer": "ipython3",
   "version": "3.7.3"
  }
 },
 "nbformat": 4,
 "nbformat_minor": 2
}
