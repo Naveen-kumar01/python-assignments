{
 "cells": [
  {
   "cell_type": "markdown",
   "metadata": {},
   "source": [
    "Q1. In mathematics, the Fibonacci numbers, commonly denoted Fn, form a sequence, called the Fibonacci sequence, such that \n",
    "each number is the sum of the two preceding ones, starting from 0 and 1:\n",
    "The beginning of the sequence is this:\n",
    "0, 1, 1, 2, 3, 5, 8, 13, 21, 34, 55, 89, 144, ...\n",
    "The function fastFib(num) returns the fibonacci number Fn, of the given num as an argument."
   ]
  },
  {
   "cell_type": "code",
   "execution_count": 1,
   "metadata": {},
   "outputs": [
    {
     "name": "stdout",
     "output_type": "stream",
     "text": [
      "3\n"
     ]
    },
    {
     "data": {
      "text/plain": [
       "2"
      ]
     },
     "execution_count": 1,
     "metadata": {},
     "output_type": "execute_result"
    }
   ],
   "source": [
    "def f(n):\n",
    "    arr=['8','2']\n",
    "    return(int(arr[n%2]))\n",
    "n=int(input())\n",
    "f(n)"
   ]
  },
  {
   "cell_type": "markdown",
   "metadata": {},
   "source": [
    "Q2. Create a function that returns the majority vote in a list. A majority vote is an element that occurs &gt; N/2 times in a list (where N is the length of the list)."
   ]
  },
  {
   "cell_type": "code",
   "execution_count": 2,
   "metadata": {},
   "outputs": [
    {
     "name": "stdout",
     "output_type": "stream",
     "text": [
      "A A A B C A\n"
     ]
    },
    {
     "data": {
      "text/plain": [
       "'A'"
      ]
     },
     "execution_count": 2,
     "metadata": {},
     "output_type": "execute_result"
    }
   ],
   "source": [
    "def majority_vote(l):\n",
    "    max=0\n",
    "    res=''\n",
    "    for i in range(len(l)):\n",
    "        count=1\n",
    "        for j in range(i+1,len(l)):\n",
    "            if l[i]==l[j]:\n",
    "                count+=1\n",
    "            else:\n",
    "                break\n",
    "        if(count>(len(l)//2 and max)):\n",
    "            max=count\n",
    "            res=l[i]\n",
    "        else:\n",
    "            i=j+1\n",
    "    return res\n",
    "                    \n",
    "l=list(map(str,input().split()))\n",
    "l.sort()\n",
    "majority_vote(l)"
   ]
  },
  {
   "cell_type": "markdown",
   "metadata": {},
   "source": [
    "Q3. Create a function that takes a string txt and censors any word from a given list lst. The text removed must be replaced by the given character char."
   ]
  },
  {
   "cell_type": "code",
   "execution_count": 3,
   "metadata": {},
   "outputs": [
    {
     "name": "stdout",
     "output_type": "stream",
     "text": [
      "The cow jumped over the moon.\n",
      "cow over\n",
      "*\n"
     ]
    },
    {
     "data": {
      "text/plain": [
       "'The *** jumped **** the moon. '"
      ]
     },
     "execution_count": 3,
     "metadata": {},
     "output_type": "execute_result"
    }
   ],
   "source": [
    "def censor_string(s,rep,key):\n",
    "    l=s.split(' ')\n",
    "    s1=''\n",
    "    for i in range(len(l)):\n",
    "        if(rep):\n",
    "            if(l[0]==rep[0]):\n",
    "                m=rep.pop(0)\n",
    "                l.pop(0)\n",
    "                for j in range(len(m)):\n",
    "                    s1+=''.join(key)\n",
    "                s1+=''.join(' ')\n",
    "            else:\n",
    "                s1+=''.join(l[0])\n",
    "                s1+=''.join(' ')\n",
    "                l.pop(0)\n",
    "    for i in l:\n",
    "        s1+=''.join(i)\n",
    "        s1+=''.join(' ')\n",
    "    return(s1)\n",
    "s=input()\n",
    "rep=list(map(str,input().split()))\n",
    "key=input()\n",
    "censor_string(s,rep,key)"
   ]
  },
  {
   "cell_type": "markdown",
   "metadata": {},
   "source": [
    "Q4. In mathematics a Polydivisible Number (or magic number) is a number in a given number base with digits abcde... that has the following properties:\n",
    "- Its first digit a is not 0.\n",
    "- The number formed by its first two digits ab is a multiple of 2.\n",
    "- The number formed by its first three digits abc is a multiple of 3.\n",
    "- The number formed by its first four digits abcd is a multiple of 4.\n",
    "Create a function which takes an integer n and returns True if the given number is a Polydivisible Number and False otherwise."
   ]
  },
  {
   "cell_type": "code",
   "execution_count": 4,
   "metadata": {},
   "outputs": [
    {
     "name": "stdout",
     "output_type": "stream",
     "text": [
      "123200\n"
     ]
    },
    {
     "data": {
      "text/plain": [
       "False"
      ]
     },
     "execution_count": 4,
     "metadata": {},
     "output_type": "execute_result"
    }
   ],
   "source": [
    "def find_len(s):\n",
    "    n='1'\n",
    "    l=str(s)\n",
    "    for i in range(1,len(l)):\n",
    "        n+=''.join('0')\n",
    "    num=int(n)\n",
    "    return num\n",
    "def is_polydivisible(s):\n",
    "    num=find_len(s)\n",
    "    r=s//num\n",
    "    if r!=0:\n",
    "        num=num//10\n",
    "        for i in range(len(str(num))):\n",
    "            r=s//num\n",
    "            if r%(i+2)==0:\n",
    "                num=num//10\n",
    "            else:\n",
    "                return False\n",
    "    else:\n",
    "        return False\n",
    "    return True\n",
    "s=int(input())\n",
    "is_polydivisible(s)"
   ]
  },
  {
   "cell_type": "code",
   "execution_count": null,
   "metadata": {},
   "outputs": [],
   "source": [
    "5. Create a function that takes a list of numbers and returns the sum of all prime numbers in the list."
   ]
  },
  {
   "cell_type": "code",
   "execution_count": 5,
   "metadata": {},
   "outputs": [
    {
     "name": "stdout",
     "output_type": "stream",
     "text": [
      "1 2 3 4 5 6 7 8 9 10 11\n"
     ]
    },
    {
     "data": {
      "text/plain": [
       "28"
      ]
     },
     "execution_count": 5,
     "metadata": {},
     "output_type": "execute_result"
    }
   ],
   "source": [
    "def is_prime(num):\n",
    "    a=0\n",
    "    for i in range(1,num+1):\n",
    "        if(num%i==0):\n",
    "            a+=1\n",
    "    if a==2:\n",
    "        return True\n",
    "    else:\n",
    "        return False\n",
    "        \n",
    "def sum_primes(l):\n",
    "    sum=0\n",
    "    if l:\n",
    "        for i in l:\n",
    "            if is_prime(i)==True:\n",
    "                sum+=i\n",
    "        return sum\n",
    "    else:\n",
    "        return []\n",
    "l=list(map(int,input().split()))        \n",
    "sum_primes(l)"
   ]
  },
  {
   "cell_type": "code",
   "execution_count": null,
   "metadata": {},
   "outputs": [],
   "source": []
  }
 ],
 "metadata": {
  "kernelspec": {
   "display_name": "Python 3",
   "language": "python",
   "name": "python3"
  },
  "language_info": {
   "codemirror_mode": {
    "name": "ipython",
    "version": 3
   },
   "file_extension": ".py",
   "mimetype": "text/x-python",
   "name": "python",
   "nbconvert_exporter": "python",
   "pygments_lexer": "ipython3",
   "version": "3.7.3"
  }
 },
 "nbformat": 4,
 "nbformat_minor": 2
}
