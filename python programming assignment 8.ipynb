{
 "cells": [
  {
   "cell_type": "markdown",
   "metadata": {},
   "source": [
    "1. Write a Python Program to Add Two Matrices?"
   ]
  },
  {
   "cell_type": "code",
   "execution_count": 5,
   "metadata": {},
   "outputs": [
    {
     "name": "stdout",
     "output_type": "stream",
     "text": [
      "[[-0.46444434  1.24786293]\n",
      " [ 0.75324745  1.64478776]]\n",
      "[[-0.54418964  1.68909693]\n",
      " [ 1.07399497 -2.26358174]]\n",
      "[[-1.00863398  2.93695986]\n",
      " [ 1.82724241 -0.61879398]]\n"
     ]
    }
   ],
   "source": [
    "import pandas as pd\n",
    "from numpy.random import randn\n",
    "import numpy as np\n",
    "m1=np.matrix(np.random.randn(2,2))\n",
    "print(m1)\n",
    "m2=np.matrix(np.random.randn(2,2))\n",
    "print(m2)\n",
    "print(m1+m2)"
   ]
  },
  {
   "cell_type": "markdown",
   "metadata": {},
   "source": [
    "2. Write a Python Program to Multiply Two Matrices?"
   ]
  },
  {
   "cell_type": "code",
   "execution_count": 7,
   "metadata": {},
   "outputs": [
    {
     "name": "stdout",
     "output_type": "stream",
     "text": [
      "[[ 0.06427348  1.72925441]\n",
      " [ 0.7146548  -0.81677078]]\n",
      "[[ 1.38548692 -0.47078559]\n",
      " [ 0.06041001  1.27349696]]\n",
      "\n",
      "[[ 0.19351435  2.17194121]\n",
      " [ 0.94080375 -1.37660429]]\n"
     ]
    }
   ],
   "source": [
    "import pandas as pd\n",
    "from numpy.random import randn\n",
    "import numpy as np\n",
    "m1=np.matrix(np.random.randn(2,2))\n",
    "print(m1)\n",
    "m2=np.matrix(np.random.randn(2,2))\n",
    "print(m2)\n",
    "print()\n",
    "print(m1@m2)"
   ]
  },
  {
   "cell_type": "markdown",
   "metadata": {},
   "source": [
    "3. Write a Python Program to Transpose a Matrix?"
   ]
  },
  {
   "cell_type": "code",
   "execution_count": 10,
   "metadata": {},
   "outputs": [
    {
     "name": "stdout",
     "output_type": "stream",
     "text": [
      "(4, 3)\n",
      "(3, 4)\n"
     ]
    }
   ],
   "source": [
    "import pandas as pd\n",
    "import numpy as np\n",
    "m1=np.matrix([[1,2,3],[5,6,7],[7,8,9],[5,4,6]])\n",
    "print(m1.shape)\n",
    "m1=m1.T\n",
    "print(m1.shape)"
   ]
  },
  {
   "cell_type": "markdown",
   "metadata": {},
   "source": [
    "4. Write a Python Program to Sort Words in Alphabetic Order?"
   ]
  },
  {
   "cell_type": "code",
   "execution_count": 13,
   "metadata": {},
   "outputs": [
    {
     "name": "stdout",
     "output_type": "stream",
     "text": [
      "ram rose aman nav rishab raman neera\n",
      "['aman', 'nav', 'neera', 'ram', 'raman', 'rishab', 'rose']\n"
     ]
    }
   ],
   "source": [
    "s= input()\n",
    "l=s.split()\n",
    "l.sort()\n",
    "print(l)"
   ]
  },
  {
   "cell_type": "markdown",
   "metadata": {},
   "source": [
    "5. Write a Python Program to Remove Punctuation From a String?"
   ]
  },
  {
   "cell_type": "code",
   "execution_count": 23,
   "metadata": {},
   "outputs": [
    {
     "name": "stdout",
     "output_type": "stream",
     "text": [
      "%myname@naveen<kumar\n",
      "mynamenaveenkumar\n"
     ]
    }
   ],
   "source": [
    "s=input()\n",
    "res=''\n",
    "l1=['{', '}', '|', '~', '[',']','/','^','_','`',':',';','>','<','=','?','@','#','$','%','&','*','(',')','-','.',',','!']\n",
    "l=list(s)\n",
    "for i in l:\n",
    "    if(i in l1):\n",
    "        l.remove(i)\n",
    "res=''.join(l)\n",
    "print(res)"
   ]
  },
  {
   "cell_type": "code",
   "execution_count": null,
   "metadata": {},
   "outputs": [],
   "source": []
  }
 ],
 "metadata": {
  "kernelspec": {
   "display_name": "Python 3",
   "language": "python",
   "name": "python3"
  },
  "language_info": {
   "codemirror_mode": {
    "name": "ipython",
    "version": 3
   },
   "file_extension": ".py",
   "mimetype": "text/x-python",
   "name": "python",
   "nbconvert_exporter": "python",
   "pygments_lexer": "ipython3",
   "version": "3.7.3"
  }
 },
 "nbformat": 4,
 "nbformat_minor": 2
}
