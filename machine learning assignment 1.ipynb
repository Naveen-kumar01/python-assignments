{
 "cells": [
  {
   "cell_type": "markdown",
   "metadata": {},
   "source": [
    "Q1. What does one mean by the term machine learning?"
   ]
  },
  {
   "cell_type": "markdown",
   "metadata": {},
   "source": [
    "Ans - The machine learning is a part of the AI. The machine learning focuses on learning the relationship that is established         between the features and the target variable. There are various kind of machine learning algorithms that help us to study       and identify these relationship. There is supervised, unsupervised and semisupervised learning."
   ]
  },
  {
   "cell_type": "markdown",
   "metadata": {},
   "source": [
    "Q2. Can you think of 4 distinct types of issues where it shines?"
   ]
  },
  {
   "cell_type": "markdown",
   "metadata": {},
   "source": [
    "Ans - Machine learning is great for problems whose solution requires lot of work or a long list of rules, complex problems that       are hard to get a solution of using a conventional method, unstable environments and getting insights about complex             problems and large data."
   ]
  },
  {
   "cell_type": "markdown",
   "metadata": {},
   "source": [
    "Q3. What is a labeled training set, and how does it work?"
   ]
  },
  {
   "cell_type": "markdown",
   "metadata": {},
   "source": [
    "Ans  The labeled training se refers to the dataset that is used in the supervised learning, where in the training set we have features as well as we have target variable which is used for the training of the various models. To study relationship between feature and target to bulid a model for prediction."
   ]
  },
  {
   "cell_type": "markdown",
   "metadata": {},
   "source": [
    "Q4. What are the two most important tasks that are supervised?"
   ]
  },
  {
   "cell_type": "markdown",
   "metadata": {},
   "source": [
    "Ans - There are two type of suvervised learning that is -\n",
    "      1. Classififcation.\n",
    "      2. Regression."
   ]
  },
  {
   "cell_type": "markdown",
   "metadata": {},
   "source": [
    "Q5. Can you think of four examples of unsupervised tasks?"
   ]
  },
  {
   "cell_type": "markdown",
   "metadata": {},
   "source": [
    "Ans - Thee unsupervised learning is mainly used for the clustering, association rules, dimensionality reduction."
   ]
  },
  {
   "cell_type": "markdown",
   "metadata": {},
   "source": [
    "Q6. State the machine learning model that would be best to make a robot walk through various unfamiliar terrains?"
   ]
  },
  {
   "cell_type": "markdown",
   "metadata": {},
   "source": [
    "Ans - Reinforcement learning is the best for this type of problem."
   ]
  },
  {
   "cell_type": "markdown",
   "metadata": {},
   "source": [
    "Q7. Which algorithm will you use to divide your customers into different groups?"
   ]
  },
  {
   "cell_type": "markdown",
   "metadata": {},
   "source": [
    "Ans - Clustering algoritms like kmeans, dbscan and other clustering algorithms can be used for  customer segmentation."
   ]
  },
  {
   "cell_type": "markdown",
   "metadata": {},
   "source": [
    "Q8. Will you consider the problem of spam detection to be a supervised or unsupervised learning problem?"
   ]
  },
  {
   "cell_type": "markdown",
   "metadata": {},
   "source": [
    "Ans - The spam detection is a supervised learning, the model can be trained to identify certain words that generally pop \n",
    "      in the spam mails, but there is a need to train the model after regular interval of time for getting familiar with the\n",
    "      the new spam mails."
   ]
  },
  {
   "cell_type": "markdown",
   "metadata": {},
   "source": [
    "Q9. What is the concept of an online learning system?"
   ]
  },
  {
   "cell_type": "markdown",
   "metadata": {},
   "source": [
    "Ans - Online learning system is a Machine Learning system that trains on the data that is feeded to it in the small and batchs \n",
    "      instances, so that the system can learn about new data on the fly, as it arrives."
   ]
  },
  {
   "cell_type": "markdown",
   "metadata": {},
   "source": [
    "Q10. What is out-of-core learning, and how does it differ from core learning?"
   ]
  },
  {
   "cell_type": "markdown",
   "metadata": {},
   "source": [
    "Ans - When the dataset is too large to be processed in one go then out of core learning is used, it is similar to online \n",
    "      learning where data is provided in the mini batches format to train the model. The core learning is used when the \n",
    "      dataset is not that large and can esily be processed in one go."
   ]
  },
  {
   "cell_type": "markdown",
   "metadata": {},
   "source": [
    "Q11. What kind of learning algorithm makes predictions using a similarity measure?"
   ]
  },
  {
   "cell_type": "markdown",
   "metadata": {},
   "source": [
    "Ans - The instance based algorithms are used here, one such algorithm is kmeans clusteering."
   ]
  },
  {
   "cell_type": "markdown",
   "metadata": {},
   "source": [
    "Q12. What's the difference between a model parameter and a hyperparameter in a learning algorithm?"
   ]
  },
  {
   "cell_type": "markdown",
   "metadata": {},
   "source": [
    "Ans - Model parameter determines how a model will predict given a new instance; model usually has more than one parameter. \n",
    "      hyperparameter are the not model parameters these are set before the model is set for training and they are used to \n",
    "      incease the accuracy of the model."
   ]
  },
  {
   "cell_type": "code",
   "execution_count": null,
   "metadata": {},
   "outputs": [],
   "source": [
    "Q13. What are the criteria that model-based learning algorithms look for? What is the most popular method they use to \n",
    "     achieve success? What method do they use to make predictions?"
   ]
  },
  {
   "cell_type": "code",
   "execution_count": null,
   "metadata": {},
   "outputs": [],
   "source": [
    "Ans - Model-based learning algorithms search for the best model that can be used for prediction purposes. The strategy they \n",
    "      use to succeed are - \n",
    "      1. EDA on the data to understand the data and derive insights.\n",
    "      2. Model selection\n",
    "      3. Model training and finding model parameters that minimize a cost function to obtain the best fit model.\n",
    "      4. Apply the model to make predictions on new cases.\n",
    "      When input data is passed to the model and based on this and the model parameters the output is predicted."
   ]
  },
  {
   "cell_type": "markdown",
   "metadata": {},
   "source": [
    "Q14. Can you name four of the most important Machine Learning challenges?"
   ]
  },
  {
   "cell_type": "markdown",
   "metadata": {},
   "source": [
    "Ans - 1. Noise in the dataset as missing values and imbalanced dataset.\n",
    "      2. Irrelevent features.\n",
    "      3. Simple model and less amount of data which can lead to underfitting\n",
    "      4. To complex model which lead to overfitting."
   ]
  },
  {
   "cell_type": "markdown",
   "metadata": {},
   "source": [
    "Q15. What happens if the model performs well on the training data but fails to generalize the results to new situations?\n",
    "     Can you think of three different options?"
   ]
  },
  {
   "cell_type": "markdown",
   "metadata": {},
   "source": [
    "Ans - This is the situation of overfitting. \n",
    "      To solve the problem of overfitting we can use - \n",
    "    1. More training data\n",
    "    2. Use less feature to reduce the model complexity.\n",
    "    3. Regularisation\n",
    "    4. cross validation."
   ]
  },
  {
   "cell_type": "markdown",
   "metadata": {},
   "source": [
    "Q16. What exactly is a test set, and why would you need one?"
   ]
  },
  {
   "cell_type": "markdown",
   "metadata": {},
   "source": [
    "Ans - Test set is the data on which the trained model is tested or evaluated. By evaluating the model on test set we get \n",
    "      an estimate of the error rate. It also gives a clear idea how well our model has generalised or is it overfitted."
   ]
  },
  {
   "cell_type": "markdown",
   "metadata": {},
   "source": [
    "Q17. What is a validation sets purpose?"
   ]
  },
  {
   "cell_type": "markdown",
   "metadata": {},
   "source": [
    "Ans - The validation set is a holdout part of the training set which is used to evaluate several different models and \n",
    "      select the best model in the end. Which then can be used on the test set."
   ]
  },
  {
   "cell_type": "markdown",
   "metadata": {},
   "source": [
    "Q18. What precisely is the train-dev kit, when will you need it, how do you put it to use?"
   ]
  },
  {
   "cell_type": "markdown",
   "metadata": {},
   "source": [
    "Ans - It is similar to train test split, It divides the dataset into train, dev and test dataset, the train data is used \n",
    "      for traning pupose, the dev is used as validation set to find the best model, test set is used to test whether the\n",
    "      model is generalised or not."
   ]
  },
  {
   "cell_type": "markdown",
   "metadata": {},
   "source": [
    "Q19. What could go wrong if you use the test set to tune hyperparameters?"
   ]
  },
  {
   "cell_type": "markdown",
   "metadata": {},
   "source": [
    "Ans - The model should never be trained on the test set, as it will try and fit on the test set also and we can never test\n",
    "      the generalisation of our model as it is trained on the test set."
   ]
  }
 ],
 "metadata": {
  "kernelspec": {
   "display_name": "Python 3",
   "language": "python",
   "name": "python3"
  },
  "language_info": {
   "codemirror_mode": {
    "name": "ipython",
    "version": 3
   },
   "file_extension": ".py",
   "mimetype": "text/x-python",
   "name": "python",
   "nbconvert_exporter": "python",
   "pygments_lexer": "ipython3",
   "version": "3.6.13"
  }
 },
 "nbformat": 4,
 "nbformat_minor": 2
}
