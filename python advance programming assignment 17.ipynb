{
 "cells": [
  {
   "cell_type": "markdown",
   "metadata": {},
   "source": [
    "Q1. Create a function that transposes a 2D matrix."
   ]
  },
  {
   "cell_type": "code",
   "execution_count": 12,
   "metadata": {},
   "outputs": [
    {
     "name": "stdout",
     "output_type": "stream",
     "text": [
      "[[5, 5], [6, 7], [9, 1]]\n",
      "[[5, 6, 9], [5, 7, 1]]\n"
     ]
    }
   ],
   "source": [
    "def transpose_matrix(mat):\n",
    "    print(mat)\n",
    "    result = [[mat[j][i] for j in range(len(mat))] for i in range(len(mat[0]))]\n",
    "    print(result)\n",
    "transpose_matrix([[5, 5],[6, 7],[9, 1]])"
   ]
  },
  {
   "cell_type": "markdown",
   "metadata": {},
   "source": [
    "Q2. Create a function that determines whether a string is a valid hex code.A hex code must begin with a pound key # and is \n",
    "    exactly 6 characters in length. Each character must be a digit from 0-9 or an alphabetic character from A-F. All \n",
    "    alphabetic characters may be uppercase or lowercase."
   ]
  },
  {
   "cell_type": "code",
   "execution_count": 10,
   "metadata": {},
   "outputs": [
    {
     "data": {
      "text/plain": [
       "True"
      ]
     },
     "execution_count": 10,
     "metadata": {},
     "output_type": "execute_result"
    }
   ],
   "source": [
    "import re\n",
    "def is_valid_hex_code(s):\n",
    "    if s[0]=='#':\n",
    "        if len(s)==7:\n",
    "            if bool(re.match(\"^(?=.*[a-zA-Z])(?=.*[0-9])[A-Za-z0-9]+$\",s[1:]))==True:\n",
    "                return True\n",
    "            else:\n",
    "                return False\n",
    "        else:\n",
    "            return False\n",
    "    else:\n",
    "        return False\n",
    "s='#etv56v'\n",
    "is_valid_hex_code(s)"
   ]
  },
  {
   "cell_type": "markdown",
   "metadata": {},
   "source": [
    "Q3. Given a list of math equations (given as strings), return the percentage of correct answers as a string. Round to the \n",
    "    nearest whole number."
   ]
  },
  {
   "cell_type": "code",
   "execution_count": 15,
   "metadata": {},
   "outputs": [
    {
     "data": {
      "text/plain": [
       "'67%'"
      ]
     },
     "execution_count": 15,
     "metadata": {},
     "output_type": "execute_result"
    }
   ],
   "source": [
    "def marks_math(l):\n",
    "    l1=[]\n",
    "    for i in l:\n",
    "        s=i.split('=')\n",
    "        l1.append(s)\n",
    "    count=0\n",
    "    for i in range(len(l1)):\n",
    "        if eval(l1[i][0])==int(l1[i][1]):\n",
    "            count+=1\n",
    "    percent=round(count/len(l)*100)\n",
    "    return str(percent)+'%'\n",
    "l=['2+3=5', '4+4=9', '3-1=2']\n",
    "marks_math(l)"
   ]
  },
  {
   "cell_type": "markdown",
   "metadata": {},
   "source": [
    "Q4. There are two players, Alice and Bob, each with a 3-by-3 grid. A referee tells Alice to fill out one particular row in \n",
    "    the grid (say the second row) by putting either a 1 or a 0 in each box, such that the sum of the numbers in that row is \n",
    "    odd. The referee tells Bob to fill out one column in the grid (say the first column) by putting either a 1 or a 0 in \n",
    "    each box, such that the sum of the numbers in that column is even.\n",
    "    Alice and Bob win the game if Alice’s numbers give an odd sum, Bob’s give an even sum, and (most important) they’ve each\n",
    "    written down the same number in the one square where their row and column intersect."
   ]
  },
  {
   "cell_type": "code",
   "execution_count": 28,
   "metadata": {},
   "outputs": [
    {
     "data": {
      "text/plain": [
       "False"
      ]
     },
     "execution_count": 28,
     "metadata": {},
     "output_type": "execute_result"
    }
   ],
   "source": [
    "import numpy as np\n",
    "def alicesum(alice_num):\n",
    "    alice_sum=0\n",
    "    for i in alice_num:\n",
    "        alice_sum+=int(i)\n",
    "    return alice_sum\n",
    "\n",
    "def bobsum(bob_num):\n",
    "    bob_sum=0\n",
    "    for i in bob_num:\n",
    "        bob_sum+=int(i)\n",
    "    return bob_sum\n",
    "\n",
    "\n",
    "alice_sum=alicesum(alice_num)\n",
    "bob_sum=bobsum(bob_num)\n",
    "def magic_square_game(l1,l2):\n",
    "    alice_num = l1[1]\n",
    "    bob_num= l2[1]\n",
    "    row=l1[0]\n",
    "    column=l2[0]\n",
    "    alice_arr = np.zeros((3,3))\n",
    "    bob_arr= np.zeros((3,3))\n",
    "    for i in range(len(alice_arr)):\n",
    "        for j in range(len(alice_arr)):\n",
    "            alice_arr[1][j]=int(alice_num[j])\n",
    "    for i in range(len(bob_arr)):\n",
    "        for j in range(len(bob_arr)):\n",
    "            bob_arr[j][0]=int(bob_num[j])\n",
    "    if alicesum(alice_num)%2!=0:\n",
    "        if bobsum(bob_num)%2==0:\n",
    "            if alice_arr[1][0]==bob_arr[1][0]:\n",
    "                return True\n",
    "            else:\n",
    "                return False\n",
    "        else:\n",
    "            return False\n",
    "    else:\n",
    "        return False\n",
    "l1=[2, '101']\n",
    "l2=[1, '101']\n",
    "magic_square_game(l1,l2)"
   ]
  },
  {
   "cell_type": "markdown",
   "metadata": {},
   "source": [
    "Q5. From point A, an object is moving towards point B at constant velocity va (in km/hr). From point B, another object is \n",
    "    moving towards point A at constant velocity vb (in km/hr). Knowing this and the distance between point A and B (in km), \n",
    "    write a function that returns how much time passes until both objects meet."
   ]
  },
  {
   "cell_type": "code",
   "execution_count": 37,
   "metadata": {},
   "outputs": [
    {
     "name": "stdout",
     "output_type": "stream",
     "text": [
      "enter the distance : 100\n",
      "enter the velocity of a object : 10\n",
      "enter the velocity of b object : 30\n"
     ]
    },
    {
     "data": {
      "text/plain": [
       "'2h 30min 0s'"
      ]
     },
     "execution_count": 37,
     "metadata": {},
     "output_type": "execute_result"
    }
   ],
   "source": [
    "def lets_meet(distance,velocity_a,velocity_b):\n",
    "    # as train travel in opposite direction there total spped is added if they move in same direction there relative \n",
    "    # speeds are subtracted\n",
    "    total_velocity=velocity_a+velocity_b\n",
    "    time=distance/total_velocity\n",
    "    hours = int(time)\n",
    "    minutes = (time*60) % 60\n",
    "    seconds = (time*3600) % 60\n",
    "    return str(int(hours)) + 'h ' + str(int(minutes)) + 'min ' + str(int(seconds)) + 's'\n",
    "distance=int(input('enter the distance : '))\n",
    "velocity_a=int(input('enter the velocity of a object : '))\n",
    "velocity_b=int(input('enter the velocity of b object : '))\n",
    "lets_meet(distance,velocity_a,velocity_b)"
   ]
  },
  {
   "cell_type": "code",
   "execution_count": null,
   "metadata": {},
   "outputs": [],
   "source": []
  }
 ],
 "metadata": {
  "kernelspec": {
   "display_name": "Python 3",
   "language": "python",
   "name": "python3"
  },
  "language_info": {
   "codemirror_mode": {
    "name": "ipython",
    "version": 3
   },
   "file_extension": ".py",
   "mimetype": "text/x-python",
   "name": "python",
   "nbconvert_exporter": "python",
   "pygments_lexer": "ipython3",
   "version": "3.6.13"
  }
 },
 "nbformat": 4,
 "nbformat_minor": 2
}
