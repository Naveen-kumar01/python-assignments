{
 "cells": [
  {
   "cell_type": "markdown",
   "id": "2af91cff",
   "metadata": {},
   "source": [
    "Q1. Write a function that returns True if a given name can generate an array of words.\n",
    "Examples\n",
    "anagram('Justin Bieber', ['injures', 'ebb', 'it']) ➞ True"
   ]
  },
  {
   "cell_type": "code",
   "execution_count": 56,
   "id": "fb75a2d7",
   "metadata": {},
   "outputs": [
    {
     "name": "stdout",
     "output_type": "stream",
     "text": [
      "enter string - Natalie Portman\n",
      "enter the array of words - ornamental,pita\n"
     ]
    },
    {
     "data": {
      "text/plain": [
       "True"
      ]
     },
     "execution_count": 56,
     "metadata": {},
     "output_type": "execute_result"
    }
   ],
   "source": [
    "def anagram(s,l):\n",
    "    s=s.lower()\n",
    "    s=s.replace(' ','')\n",
    "    l1=list(s)\n",
    "    s1=''\n",
    "    s1+=s1.join(l)\n",
    "    for i in s1:\n",
    "        if i in l1:\n",
    "            l1.remove(i)\n",
    "    if len(l1)==0:\n",
    "        return True\n",
    "    else:\n",
    "        return False\n",
    "s=input('enter string - ')\n",
    "l=list(map(str,input('enter the array of words - ').split(',')))\n",
    "anagram(s,l)"
   ]
  },
  {
   "cell_type": "markdown",
   "id": "ba3cf793",
   "metadata": {},
   "source": [
    "Q2. Given an array of users, each defined by an object with the following properties: name, score, reputation create a \n",
    "   function that sorts the array to form the correct leaderboard.\n",
    "   The leaderboard takes into consideration the score of each user of course, but an emphasis is put on their reputation in\n",
    "   the community, so to get the trueScore, you should add the reputation multiplied by 2 to the score.\n",
    "   Once you know the trueScore of each user, sort the array according to it in descending order."
   ]
  },
  {
   "cell_type": "code",
   "execution_count": 31,
   "id": "01d9d908",
   "metadata": {},
   "outputs": [
    {
     "data": {
      "text/plain": [
       "[{'name': 'c', 'score': 115, 'reputation': 30},\n",
       " {'name': 'b', 'score': 90, 'reputation': 40},\n",
       " {'name': 'a', 'score': 100, 'reputation': 20}]"
      ]
     },
     "execution_count": 31,
     "metadata": {},
     "output_type": "execute_result"
    }
   ],
   "source": [
    "def leaderboards(l):\n",
    "    l1=[]\n",
    "    max=0\n",
    "    for i in l:\n",
    "        if i['reputation']*2+i['score'] > max:\n",
    "            l1.insert(0,i)\n",
    "    return l1\n",
    "l=[{ 'name': 'a', 'score': 100, 'reputation': 20 },\n",
    "{ 'name': 'b', 'score': 90, 'reputation': 40 },\n",
    "{ 'name': 'c', 'score': 115, 'reputation': 30 }]\n",
    "leaderboards(l)"
   ]
  },
  {
   "cell_type": "markdown",
   "id": "92653f9e",
   "metadata": {},
   "source": [
    "Q3. Create a function that, given a phrase and a number of letters guessed, returns a string with hyphens - for every letter of \n",
    "the phrase not guessed, and each letter guessed in place."
   ]
  },
  {
   "cell_type": "code",
   "execution_count": 34,
   "id": "9ffdf6d0",
   "metadata": {},
   "outputs": [
    {
     "name": "stdout",
     "output_type": "stream",
     "text": [
      "enter the string - Python rules\n",
      "enter the guessed letters - a,n,P,r,z\n",
      "P----n-r----\n"
     ]
    }
   ],
   "source": [
    "def hangman(s,l):\n",
    "    \n",
    "    l1=list(s)\n",
    "    s1=''\n",
    "    for i in l1:\n",
    "        if i not in l:\n",
    "            s1+=s1.join('-')\n",
    "        else:\n",
    "            s1+=s1.join(i)\n",
    "    print(s1)\n",
    "s=input('enter the string - ') \n",
    "l=list(map(str,input('enter the guessed letters - ').split(',')))\n",
    "hangman(s,l)"
   ]
  },
  {
   "cell_type": "markdown",
   "id": "40f5048d",
   "metadata": {},
   "source": [
    "Q4. The Collatz sequence is as follows:\n",
    "\n",
    "- Start with some given integer n.\n",
    "\n",
    "- If it is even, the next number will be n divided by 2.\n",
    "\n",
    "- If it is odd, multiply it by 3 and add 1 to make the next number.\n",
    "\n",
    "- The sequence stops when it reaches 1.\n",
    "\n",
    "According to the Collatz conjecture, it will always reach 1. If that&#39;s true, you can construct a finite sequence following the aforementioned method for any given integer.\n",
    "\n",
    "Write a function that takes in an integer n and returns the highest integer in the corresponding Collatz sequence."
   ]
  },
  {
   "cell_type": "code",
   "execution_count": 36,
   "id": "7d1f684b",
   "metadata": {},
   "outputs": [
    {
     "name": "stdout",
     "output_type": "stream",
     "text": [
      "enter any number - 10\n"
     ]
    },
    {
     "data": {
      "text/plain": [
       "16"
      ]
     },
     "execution_count": 36,
     "metadata": {},
     "output_type": "execute_result"
    }
   ],
   "source": [
    "def max_collatz(num):\n",
    "    l=[]\n",
    "    while(num>1):\n",
    "        if num%2==0:\n",
    "            num=num//2\n",
    "            l.append(num)\n",
    "        else:\n",
    "            num=num*3+1\n",
    "            l.append(num)\n",
    "    max=0\n",
    "    for i in l:\n",
    "        if i>max:\n",
    "            max=i\n",
    "    return max\n",
    "n=int(input('enter any number - '))\n",
    "max_collatz(n)"
   ]
  },
  {
   "cell_type": "markdown",
   "id": "f45d3563",
   "metadata": {},
   "source": [
    "Q5. Write a function that sorts a list of integers by their digit length in descending order, then settles ties by sorting numbers with the same digit length in ascending order."
   ]
  },
  {
   "cell_type": "code",
   "execution_count": 52,
   "id": "f8e9a8f9",
   "metadata": {},
   "outputs": [
    {
     "name": "stdout",
     "output_type": "stream",
     "text": [
      "enter list - 1, 5, 9, 2, 789, 563, 444\n"
     ]
    },
    {
     "data": {
      "text/plain": [
       "[444, 563, 789, 1, 2, 5, 9]"
      ]
     },
     "execution_count": 52,
     "metadata": {},
     "output_type": "execute_result"
    }
   ],
   "source": [
    "\n",
    "def digit_sort(l):   \n",
    "    l.sort(reverse=True)\n",
    "    for  i in range(len(l)):\n",
    "        for j in range(i,len(l)):\n",
    "            if (len(str(l[i]))==len(str(l[j])) and l[i]>l[j]):\n",
    "                l[i],l[j]=l[j],l[i]\n",
    "    return l\n",
    "l=list(map(int,input('enter list - ').split(',')))\n",
    "digit_sort(l) "
   ]
  },
  {
   "cell_type": "markdown",
   "id": "ecbe6e07",
   "metadata": {},
   "source": [
    "Q5. lPaeesh le pemu mnxit ehess rtnisg! Oh, sorry, that was supposed to say:\n",
    "\n",
    "Please help me unmix these strings! \n",
    "Somehow my strings have all become mixed up; every pair of characters has been swapped.Help me undo this so I can understand \n",
    "my strings again."
   ]
  },
  {
   "cell_type": "code",
   "execution_count": 5,
   "id": "1f63822c",
   "metadata": {},
   "outputs": [
    {
     "name": "stdout",
     "output_type": "stream",
     "text": [
      "enter the mixed string - hTsii  s aimex dpus rtni.g\n"
     ]
    },
    {
     "data": {
      "text/plain": [
       "'This is a mixed up string.'"
      ]
     },
     "execution_count": 5,
     "metadata": {},
     "output_type": "execute_result"
    }
   ],
   "source": [
    "def unmix(s):\n",
    "    l=list(s)\n",
    "    s1=''\n",
    "    for i in range(0,len(l)-1,2):\n",
    "        l[i],l[i+1]=l[i+1],l[i]\n",
    "    s1+=s1.join(l)\n",
    "    return s1\n",
    "s=input('enter the mixed string - ')\n",
    "unmix(s)"
   ]
  },
  {
   "cell_type": "code",
   "execution_count": null,
   "id": "cb35b9a9",
   "metadata": {},
   "outputs": [],
   "source": []
  }
 ],
 "metadata": {
  "kernelspec": {
   "display_name": "Python 3",
   "language": "python",
   "name": "python3"
  },
  "language_info": {
   "codemirror_mode": {
    "name": "ipython",
    "version": 3
   },
   "file_extension": ".py",
   "mimetype": "text/x-python",
   "name": "python",
   "nbconvert_exporter": "python",
   "pygments_lexer": "ipython3",
   "version": "3.8.8"
  }
 },
 "nbformat": 4,
 "nbformat_minor": 5
}
