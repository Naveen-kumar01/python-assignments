{
 "cells": [
  {
   "cell_type": "markdown",
   "metadata": {},
   "source": [
    "1. Write a Python Program to Find the Factorial of a Number?\n"
   ]
  },
  {
   "cell_type": "code",
   "execution_count": 9,
   "metadata": {},
   "outputs": [
    {
     "data": {
      "text/plain": [
       "15511210043330985984000000"
      ]
     },
     "execution_count": 9,
     "metadata": {},
     "output_type": "execute_result"
    }
   ],
   "source": [
    "# we can use various approaches to solve this problem \n",
    " # I'm using recursion with memoization, as it is fast enough to calculate 10^5 numbers.\n",
    "def fact(n):\n",
    "    if n ==1:\n",
    "        return n\n",
    "    if(n in ar):\n",
    "        return a[n]\n",
    "    else:\n",
    "        a=n*fact(n-1)\n",
    "        return a\n",
    "ar={}\n",
    "fact(25)"
   ]
  },
  {
   "cell_type": "markdown",
   "metadata": {},
   "source": [
    "2. Write a Python Program to Display the multiplication Table?"
   ]
  },
  {
   "cell_type": "code",
   "execution_count": 14,
   "metadata": {},
   "outputs": [
    {
     "name": "stdout",
     "output_type": "stream",
     "text": [
      "enter the number to print its table : 9\n",
      "9 X 0= 0\n",
      "9 X 1= 9\n",
      "9 X 2= 18\n",
      "9 X 3= 27\n",
      "9 X 4= 36\n",
      "9 X 5= 45\n",
      "9 X 6= 54\n",
      "9 X 7= 63\n",
      "9 X 8= 72\n",
      "9 X 9= 81\n"
     ]
    }
   ],
   "source": [
    "x=int(input('enter the number to print its table : '))\n",
    "for i in range(10):\n",
    "    print( str(x) + ' X ' +str(i)+'= '+str(x*i))"
   ]
  },
  {
   "cell_type": "markdown",
   "metadata": {},
   "source": [
    "3. Write a Python Program to Print the Fibonacci sequence?"
   ]
  },
  {
   "cell_type": "code",
   "execution_count": 27,
   "metadata": {},
   "outputs": [
    {
     "name": "stdout",
     "output_type": "stream",
     "text": [
      "10\n"
     ]
    },
    {
     "data": {
      "text/plain": [
       "55"
      ]
     },
     "execution_count": 27,
     "metadata": {},
     "output_type": "execute_result"
    }
   ],
   "source": [
    "arr={}\n",
    "def fib(n):\n",
    "    if n==1:\n",
    "        return 1\n",
    "    elif n==2:\n",
    "        return 1\n",
    "    elif(n in arr):\n",
    "        return arr[n]\n",
    "    else:\n",
    "        arr[n]=fib(n-1)+fib(n-2)\n",
    "    return arr[n]\n",
    "x=int(input())\n",
    "fib(x)\n"
   ]
  },
  {
   "cell_type": "markdown",
   "metadata": {},
   "source": [
    "4. Write a Python Program to Check Armstrong Number?"
   ]
  },
  {
   "cell_type": "code",
   "execution_count": 38,
   "metadata": {},
   "outputs": [
    {
     "name": "stdout",
     "output_type": "stream",
     "text": [
      "8208\n",
      "it's armstrong number\n"
     ]
    }
   ],
   "source": [
    "res=0\n",
    "x=int(input())\n",
    "l=list(str(x))\n",
    "n=len(l)\n",
    "temp=x\n",
    "while(temp>0):\n",
    "    r=temp%10\n",
    "    res+=r**n\n",
    "    temp=temp//10\n",
    "if(x==res):\n",
    "    print(\"it's armstrong number\")\n",
    "else:\n",
    "    print(\"it's not armstrong number\")"
   ]
  },
  {
   "cell_type": "markdown",
   "metadata": {},
   "source": [
    "5. Write a Python Program to Find Armstrong Number in an Interval?"
   ]
  },
  {
   "cell_type": "code",
   "execution_count": 40,
   "metadata": {},
   "outputs": [
    {
     "name": "stdout",
     "output_type": "stream",
     "text": [
      "1 999\n",
      "[1, 2, 3, 4, 5, 6, 7, 8, 9, 153, 370, 371, 407]\n"
     ]
    }
   ],
   "source": [
    "a,b=map(int,input().split())\n",
    "l1=[]\n",
    "for i in range(a,b+1):\n",
    "    res=0\n",
    "    l=list(str(i))\n",
    "    n=len(l)\n",
    "    temp=i\n",
    "    while(temp>0):\n",
    "        r=temp%10\n",
    "        res+=r**n\n",
    "        temp=temp//10\n",
    "    if(i==res):\n",
    "        l1.append(i)\n",
    "print(l1)"
   ]
  },
  {
   "cell_type": "markdown",
   "metadata": {},
   "source": [
    "6. Write a Python Program to Find the Sum of Natural Numbers?"
   ]
  },
  {
   "cell_type": "code",
   "execution_count": 43,
   "metadata": {},
   "outputs": [
    {
     "name": "stdout",
     "output_type": "stream",
     "text": [
      "99\n",
      "4950\n"
     ]
    }
   ],
   "source": [
    "x=int(input())\n",
    "sum=(x*(x+1))/2\n",
    "print(int(sum))"
   ]
  },
  {
   "cell_type": "code",
   "execution_count": null,
   "metadata": {},
   "outputs": [],
   "source": []
  }
 ],
 "metadata": {
  "kernelspec": {
   "display_name": "Python 3",
   "language": "python",
   "name": "python3"
  },
  "language_info": {
   "codemirror_mode": {
    "name": "ipython",
    "version": 3
   },
   "file_extension": ".py",
   "mimetype": "text/x-python",
   "name": "python",
   "nbconvert_exporter": "python",
   "pygments_lexer": "ipython3",
   "version": "3.7.3"
  }
 },
 "nbformat": 4,
 "nbformat_minor": 2
}
