{
 "cells": [
  {
   "cell_type": "markdown",
   "id": "adjustable-terrain",
   "metadata": {},
   "source": [
    "Q1. For this challenge, forget how to add two numbers together. The best explanation on what to do for this function is this meme:\n",
    "\n",
    "Examples\n",
    "\n",
    "meme_sum(26, 39) ➞ 515"
   ]
  },
  {
   "cell_type": "code",
   "execution_count": 2,
   "id": "tough-electronics",
   "metadata": {},
   "outputs": [
    {
     "name": "stdin",
     "output_type": "stream",
     "text": [
      "enter first number -  1222\n",
      "enter second number -  30277\n"
     ]
    },
    {
     "data": {
      "text/plain": [
       "31499"
      ]
     },
     "execution_count": 2,
     "metadata": {},
     "output_type": "execute_result"
    }
   ],
   "source": [
    "def meme_sum(num1,num2):\n",
    "    l=[]\n",
    "    s=''\n",
    "    while(num1 or num2):\n",
    "        d1=num1%10\n",
    "        d2=num2%10\n",
    "        res=d1+d2\n",
    "        l.insert(0,res)\n",
    "        num1=num1//10\n",
    "        num2=num2//10\n",
    "    for i in range(len(l)):\n",
    "        s=s+str(l[i])\n",
    "    return int(s)\n",
    "n1=int(input('enter first number - '))\n",
    "n2=int(input('enter second number - '))\n",
    "meme_sum(n1,n2)"
   ]
  },
  {
   "cell_type": "markdown",
   "id": "flying-mobility",
   "metadata": {},
   "source": [
    "Q2. Given an integer, create a function that returns the next prime. If the number is prime, return the number itself."
   ]
  },
  {
   "cell_type": "code",
   "execution_count": 4,
   "id": "faced-criterion",
   "metadata": {},
   "outputs": [
    {
     "name": "stdin",
     "output_type": "stream",
     "text": [
      "enter number -  12\n"
     ]
    },
    {
     "data": {
      "text/plain": [
       "13"
      ]
     },
     "execution_count": 4,
     "metadata": {},
     "output_type": "execute_result"
    }
   ],
   "source": [
    "def is_prime(n):\n",
    "    a=0\n",
    "    for i in range(1,n):\n",
    "        if n%i==0:\n",
    "            a+=1\n",
    "    if a>2:\n",
    "        return False\n",
    "    else:\n",
    "        return True\n",
    "def next_prime(num):\n",
    "    if is_prime(num)==True:\n",
    "        return num\n",
    "    else:\n",
    "        for i in range(num+1,num+1000):\n",
    "            if is_prime(i)==True:\n",
    "                break\n",
    "        return i\n",
    "n=int(input('enter number - '))\n",
    "next_prime(n)"
   ]
  },
  {
   "cell_type": "markdown",
   "id": "figured-trustee",
   "metadata": {},
   "source": [
    "Q3. If a person traveled up a hill for 18mins at 20mph and then traveled back down the same path at 60mph then their average speed traveled was 30mph.\n",
    "Write a function that returns the average speed traveled given an uphill time, uphill rate and a downhill rate. Uphill time is given in minutes. Return\n",
    "the rate as an integer (mph). No rounding is necessary."
   ]
  },
  {
   "cell_type": "code",
   "execution_count": 6,
   "id": "european-payroll",
   "metadata": {},
   "outputs": [
    {
     "name": "stdin",
     "output_type": "stream",
     "text": [
      "enter uphill speed in mph -  30\n",
      "enter downhill speed in mph -  8\n",
      "enter uphill time -  24\n"
     ]
    },
    {
     "data": {
      "text/plain": [
       "12"
      ]
     },
     "execution_count": 6,
     "metadata": {},
     "output_type": "execute_result"
    }
   ],
   "source": [
    "def ave_spd(uphill_rate,downhill_rate,up_time):\n",
    "    dis=uphill_rate*(up_time/60)\n",
    "    down_time=dis/downhill_rate\n",
    "    avgspeed=int(2*dis/((up_time/60)+(down_time)))\n",
    "    return avgspeed\n",
    "uphill_rate=int(input('enter uphill speed in mph - '))\n",
    "downhill_rate=int(input('enter downhill speed in mph - '))\n",
    "up_time=int(input('enter uphill time - '))\n",
    "ave_spd(uphill_rate,downhill_rate,up_time)"
   ]
  },
  {
   "cell_type": "markdown",
   "id": "opened-greeting",
   "metadata": {},
   "source": [
    "Q4. The Kempner Function, applied to a composite number, permits to find the smallest integer greater than zero whose factorial is exactly divided by \n",
    "the number.\n",
    "\n",
    "kempner(6) ➞ 3\n",
    "1! = 1 % 6 &gt; 0\n",
    "2! = 2 % 6 &gt; 0\n",
    "3! = 6 % 6 === 0\n",
    "\n",
    "A Kempner Function applied to a prime will always return the prime itself.\n",
    "kempner(2) ➞ 2\n",
    "kempner(5) ➞ 5"
   ]
  },
  {
   "cell_type": "code",
   "execution_count": 7,
   "id": "offshore-network",
   "metadata": {},
   "outputs": [
    {
     "name": "stdin",
     "output_type": "stream",
     "text": [
      "enter number -  6\n"
     ]
    },
    {
     "data": {
      "text/plain": [
       "3"
      ]
     },
     "execution_count": 7,
     "metadata": {},
     "output_type": "execute_result"
    }
   ],
   "source": [
    "def is_prime(n):\n",
    "    a=0\n",
    "    for i in range(1,n):\n",
    "        if n%i==0:\n",
    "            a+=1\n",
    "    if a>2:\n",
    "        return False\n",
    "    else:\n",
    "        return True\n",
    "def fact(n):  \n",
    "    return 1 if (n==1 or n==0) else n * fact(n - 1);\n",
    "\n",
    "def kempner(num):\n",
    "    if is_prime(num)==True:\n",
    "        return num\n",
    "    else:\n",
    "        for i in range(1,num):\n",
    "            x=fact(i)\n",
    "            if x%num==0:\n",
    "                return i\n",
    "num=int(input('enter number - '))\n",
    "kempner(num)"
   ]
  },
  {
   "cell_type": "markdown",
   "id": "useful-marketing",
   "metadata": {},
   "source": [
    "5. You work in a factory, and your job is to take items from a conveyor belt and pack them into boxes. Each box can hold a maximum of 10 kgs. Given a\n",
    "list containing the weight (in kg) of each item, how many boxes would you need to pack all of the items?\n",
    "\n",
    "Example\n",
    "\n",
    "boxes([2, 1, 2, 5, 4, 3, 6, 1, 1, 9, 3, 2]) ➞ 5\n",
    "# Box 1 = [2, 1, 2, 5] (10kg)\n",
    "# Box 2 = [4, 3] (7kg)\n",
    "# Box 3 = [6, 1, 1] (8kg)\n",
    "# Box 4 = [9] (9kg)\n",
    "# Box 5 = [3, 2] (5kg)"
   ]
  },
  {
   "cell_type": "code",
   "execution_count": 8,
   "id": "opened-heart",
   "metadata": {},
   "outputs": [
    {
     "name": "stdin",
     "output_type": "stream",
     "text": [
      "enter items weights list 2, 1, 2, 5, 4, 3, 6, 1, 1, 9, 3, 2\n"
     ]
    },
    {
     "data": {
      "text/plain": [
       "5"
      ]
     },
     "execution_count": 8,
     "metadata": {},
     "output_type": "execute_result"
    }
   ],
   "source": [
    "def boxes(l):\n",
    "    sum=0\n",
    "    b=0\n",
    "    while(l):\n",
    "        x=l.pop(0)\n",
    "        if sum+x<=10:\n",
    "            sum+=x\n",
    "        else:\n",
    "            sum=x\n",
    "            b+=1\n",
    "        if sum>=10:\n",
    "            sum=0\n",
    "            b+=1\n",
    "    return (b+1)\n",
    "\n",
    "l=list(map(int,input('enter items weights list').split(',')))\n",
    "boxes(l)"
   ]
  },
  {
   "cell_type": "code",
   "execution_count": null,
   "id": "municipal-handbook",
   "metadata": {},
   "outputs": [],
   "source": []
  }
 ],
 "metadata": {
  "kernelspec": {
   "display_name": "Python 3",
   "language": "python",
   "name": "python3"
  },
  "language_info": {
   "codemirror_mode": {
    "name": "ipython",
    "version": 3
   },
   "file_extension": ".py",
   "mimetype": "text/x-python",
   "name": "python",
   "nbconvert_exporter": "python",
   "pygments_lexer": "ipython3",
   "version": "3.7.8"
  }
 },
 "nbformat": 4,
 "nbformat_minor": 5
}
