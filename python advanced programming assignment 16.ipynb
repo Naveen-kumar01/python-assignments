{
 "cells": [
  {
   "cell_type": "markdown",
   "metadata": {},
   "source": [
    "Q1. Rondo Form is a type of musical structure, in which there is a recurring theme/refrain, notated as A. Here are the rules\n",
    "    for valid rondo forms:\n",
    "    - Rondo forms always start and end with an A section.\n",
    "    - In between the A sections, there should be contrasting sections notated as B, then C, then D, etc... No letter should \n",
    "      be skipped.\n",
    "    - There shouldn't be any repeats in the sequence (such as ABBACCA).\n",
    "    Create a function which validates whether a given string is a valid Rondo Form."
   ]
  },
  {
   "cell_type": "code",
   "execution_count": 1,
   "metadata": {},
   "outputs": [
    {
     "name": "stdout",
     "output_type": "stream",
     "text": [
      "enter string - ABACADAEAFAGAHAIAJAKA\n"
     ]
    },
    {
     "data": {
      "text/plain": [
       "True"
      ]
     },
     "execution_count": 1,
     "metadata": {},
     "output_type": "execute_result"
    }
   ],
   "source": [
    "def valid_rondo(s):\n",
    "    if (s[0]=='A' and s[-1]=='A'):\n",
    "        c=ord('B')\n",
    "        for i in range(1,len(s),2):\n",
    "            if(s[i]==chr(c)):\n",
    "                c=c+1\n",
    "                if(s[i-1]!=s[i]):\n",
    "                    continue\n",
    "                else:\n",
    "                    return False\n",
    "            else:\n",
    "                return False\n",
    "    else:\n",
    "        return False\n",
    "    return True\n",
    "s=input('enter string - ')\n",
    "valid_rondo(s)"
   ]
  },
  {
   "cell_type": "markdown",
   "metadata": {},
   "source": [
    "Q2. Create a function that returns the whole of the first sentence which contains a specific word. Include the full stop at\n",
    "    the end of the sentence."
   ]
  },
  {
   "cell_type": "code",
   "execution_count": 2,
   "metadata": {},
   "outputs": [
    {
     "name": "stdout",
     "output_type": "stream",
     "text": [
      "enter the string - I have a cat. I have a mat. Things are going steady..\n",
      "enter the word - have\n"
     ]
    },
    {
     "data": {
      "text/plain": [
       "'I have a cat'"
      ]
     },
     "execution_count": 2,
     "metadata": {},
     "output_type": "execute_result"
    }
   ],
   "source": [
    "def sentence_searcher(s,txt):\n",
    "    l=s.split('.')\n",
    "    for i in l:\n",
    "        if txt in i:\n",
    "            return i\n",
    "txt=input('enter the string - ')\n",
    "s=input('enter the word - ')\n",
    "s=s.lower()\n",
    "sentence_searcher(txt,s)"
   ]
  },
  {
   "cell_type": "markdown",
   "metadata": {},
   "source": [
    "Q3. Given a number, find the 'round 'of each digit of the number. An integer is called 'round' if all its digits except the\n",
    "    leftmost (most significant) are equal to zero.\n",
    "\n",
    "    - Round numbers: 4000, 1, 9, 800, 90\n",
    "        \n",
    "    - Not round numbers: 110, 707, 222, 1001\n",
    "\n",
    "    Create a function that takes a number and returns the 'round' of each digit(except if the digit is zero) as a string. Check \n",
    "    out the following examples for more clarification."
   ]
  },
  {
   "cell_type": "code",
   "execution_count": 3,
   "metadata": {},
   "outputs": [
    {
     "name": "stdout",
     "output_type": "stream",
     "text": [
      "enter the number - 54210\n"
     ]
    },
    {
     "data": {
      "text/plain": [
       "'10 200 4000 50000 '"
      ]
     },
     "execution_count": 3,
     "metadata": {},
     "output_type": "execute_result"
    }
   ],
   "source": [
    "def count_digit(num):\n",
    "    c=0\n",
    "    while num>=1:\n",
    "        num=num//10\n",
    "        c+=1\n",
    "    return c\n",
    "\n",
    "def sum_round(num):\n",
    "    n=count_digit(num)\n",
    "    s=''\n",
    "    for i in range(1,n+1):\n",
    "        r=num%(10**i)\n",
    "        sd=str(round(r,-(i-1)))\n",
    "        if sd=='0':\n",
    "            continue\n",
    "        else:\n",
    "            s=s+sd\n",
    "            s=s+\" \"\n",
    "    return s\n",
    "num=int(input('enter the number - '))\n",
    "sum_round(num)"
   ]
  },
  {
   "cell_type": "markdown",
   "metadata": {},
   "source": [
    "Q4. Your task, is to create N x N multiplication table, of size n provided in parameter.\n",
    "\n",
    "For example, when n is 5, the multiplication table is:\n",
    "- 1, 2, 3, 4, 5\n",
    "\n",
    "- 2, 4, 6, 8, 10\n",
    "\n",
    "- 3, 6, 9, 12, 15\n",
    "\n",
    "- 4, 8, 12, 16, 20\n",
    "\n",
    "- 5, 10, 15, 20, 25\n",
    "\n",
    "This example will result in:[[1, 2, 3, 4, 5], [2, 4, 6, 8, 10], [3, 6, 9, 12, 15], [4, 8, 12, 16, 20], [5, 10, 15, 20,25]]"
   ]
  },
  {
   "cell_type": "code",
   "execution_count": 4,
   "metadata": {},
   "outputs": [
    {
     "name": "stdout",
     "output_type": "stream",
     "text": [
      "enter number - 3\n"
     ]
    },
    {
     "data": {
      "text/plain": [
       "[[1, 2, 3], [2, 4, 6], [3, 6, 9]]"
      ]
     },
     "execution_count": 4,
     "metadata": {},
     "output_type": "execute_result"
    }
   ],
   "source": [
    "def multiplication_table(num):    \n",
    "    l=[]\n",
    "    for i in range(1,num+1):\n",
    "        l1=[]\n",
    "        for j in range(1,num+1):\n",
    "            l1.append(i*j)\n",
    "        l.append(list(l1))\n",
    "    return l\n",
    "n=int(input('enter number - '))\n",
    "multiplication_table(n)"
   ]
  },
  {
   "cell_type": "markdown",
   "metadata": {},
   "source": [
    "Q5. Create a function that returns True if two lines rhyme and False otherwise. For the purposes of this exercise, two lines\n",
    "    rhyme if the last word from each sentence contains the same vowels."
   ]
  },
  {
   "cell_type": "code",
   "execution_count": 5,
   "metadata": {},
   "outputs": [
    {
     "name": "stdout",
     "output_type": "stream",
     "text": [
      "enter first sentence - Sam I am!\n",
      "enter second sentence - Green eggs and ham.\n"
     ]
    },
    {
     "data": {
      "text/plain": [
       "True"
      ]
     },
     "execution_count": 5,
     "metadata": {},
     "output_type": "execute_result"
    }
   ],
   "source": [
    "def does_rhyme(s1,s2):\n",
    "    vowels=['a','e','i','o','u']\n",
    "    l1=list(s1.split())\n",
    "    l2=list(s2.split())\n",
    "    for i in l1[-1]:\n",
    "        if i in vowels:\n",
    "            if i in l2[-1]:\n",
    "                continue\n",
    "            else:\n",
    "                return False\n",
    "    return True\n",
    "s1=input('enter first sentence - ')\n",
    "s2=input('enter second sentence - ')\n",
    "does_rhyme(s1,s2)"
   ]
  }
 ],
 "metadata": {
  "kernelspec": {
   "display_name": "Python 3",
   "language": "python",
   "name": "python3"
  },
  "language_info": {
   "codemirror_mode": {
    "name": "ipython",
    "version": 3
   },
   "file_extension": ".py",
   "mimetype": "text/x-python",
   "name": "python",
   "nbconvert_exporter": "python",
   "pygments_lexer": "ipython3",
   "version": "3.6.13"
  }
 },
 "nbformat": 4,
 "nbformat_minor": 2
}
