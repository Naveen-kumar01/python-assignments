{
 "cells": [
  {
   "cell_type": "markdown",
   "metadata": {},
   "source": [
    "Question 1:\n",
    "Define a class with a generator which can iterate the numbers, which are divisible by\n",
    "7, between a given range 0 and n."
   ]
  },
  {
   "cell_type": "code",
   "execution_count": 10,
   "metadata": {},
   "outputs": [
    {
     "name": "stdout",
     "output_type": "stream",
     "text": [
      "50\n",
      "7\n",
      "14\n",
      "21\n",
      "28\n",
      "35\n",
      "42\n",
      "49\n",
      "\n"
     ]
    }
   ],
   "source": [
    "n = int(input())\n",
    "divby7 = [i for i in range(1, n)]\n",
    "size=len(divby7)\n",
    "it = iter(divby7)\n",
    "while True:\n",
    "    try:\n",
    "        i = next(it)\n",
    "        if(i % 7 == 0):\n",
    "            print(i)\n",
    "    except Exception as e:\n",
    "        print(e)\n",
    "        break"
   ]
  },
  {
   "cell_type": "markdown",
   "metadata": {},
   "source": [
    "Question 2:\n",
    "Write a program to compute the frequency of the words from the input. The output\n",
    "should output after sorting the key alphanumerically."
   ]
  },
  {
   "cell_type": "code",
   "execution_count": 8,
   "metadata": {},
   "outputs": [
    {
     "name": "stdout",
     "output_type": "stream",
     "text": [
      "New to Python or choosing between Python 2 and Python 3? Read Python 2 or Python 3.\n",
      "{'2': 2, '3.': 1, '3?': 1, 'New': 1, 'Python': 5, 'Read': 1, 'and': 1, 'between': 1, 'choosing': 1, 'or': 2, 'to': 1}\n"
     ]
    }
   ],
   "source": [
    "s=input()\n",
    "d={}\n",
    "l=s.split()\n",
    "l.sort()\n",
    "for i in l:\n",
    "    if i in d:\n",
    "        d[i]+=1\n",
    "    else:\n",
    "        d[i]=1\n",
    "print(d)"
   ]
  },
  {
   "cell_type": "markdown",
   "metadata": {},
   "source": [
    "Question 3:\n",
    "Define a class Person and its two child classes: Male and Female. All classes have a method getGender() which can print 'Male' for Male class and 'Female' for Female class."
   ]
  },
  {
   "cell_type": "code",
   "execution_count": 11,
   "metadata": {},
   "outputs": [
    {
     "name": "stdout",
     "output_type": "stream",
     "text": [
      "male class\n",
      "male\n",
      "female class\n",
      "female\n"
     ]
    }
   ],
   "source": [
    "class Person:\n",
    "    def __init__(self):\n",
    "        print('person class')\n",
    "class Male(Person):\n",
    "    def __init__(self):\n",
    "        print('male class')\n",
    "    def getgender(self):\n",
    "        print('male')\n",
    "class Female(Person):\n",
    "    def __init__(self):\n",
    "        print('female class')\n",
    "    def getgender(self):\n",
    "        print('female')\n",
    "m=Male()\n",
    "m.getgender()\n",
    "f=Female()\n",
    "f.getgender()\n"
   ]
  },
  {
   "cell_type": "markdown",
   "metadata": {},
   "source": [
    "Question 4:\n",
    "Please write a program to generate all sentences where subject is in ['I', 'You'] and\n",
    "verb is in ['Play', 'Love'] and the object is in ['Hockey','Football']."
   ]
  },
  {
   "cell_type": "code",
   "execution_count": 13,
   "metadata": {},
   "outputs": [
    {
     "name": "stdout",
     "output_type": "stream",
     "text": [
      "I Play Hockey\n",
      "I Play Football\n",
      "I Love Hockey\n",
      "I Love Football\n",
      "You Play Hockey\n",
      "You Play Football\n",
      "You Love Hockey\n",
      "You Love Football\n"
     ]
    }
   ],
   "source": [
    "l1=['I', 'You']\n",
    "l2=['Play', 'Love']\n",
    "l3=['Hockey','Football']\n",
    "for i in l1:\n",
    "    for j in l2:\n",
    "        for k in l3:\n",
    "            print(i+' '+j+' '+k)"
   ]
  },
  {
   "cell_type": "markdown",
   "metadata": {},
   "source": [
    "Question 5:\n",
    "Please write a program to compress and decompress the string 'hello world!hello world!hello world!hello world!'"
   ]
  },
  {
   "cell_type": "code",
   "execution_count": 28,
   "metadata": {},
   "outputs": [
    {
     "name": "stdout",
     "output_type": "stream",
     "text": [
      "b'\\x1f\\x8b\\x08\\x00^~\\x81`\\x02\\xff\\xcbH\\xcd\\xc9\\xc9W(\\xcf/\\xcaIQ\\xcc \\x82\\r\\x00\\xd3\\xe6\\xcf\\xae0\\x00\\x00\\x00'\n",
      "hello world!hello world!hello world!hello world!\n"
     ]
    }
   ],
   "source": [
    "import gzip\n",
    "text='hello world!hello world!hello world!hello world!'\n",
    "text=text.encode()\n",
    "# using gzip.compress method\n",
    "s = gzip.compress(text)\n",
    "print(s)\n",
    "# using gzip.decompress method\n",
    "t = gzip.decompress(s)\n",
    "t=t.decode()\n",
    "print(t)\n"
   ]
  },
  {
   "cell_type": "markdown",
   "metadata": {},
   "source": [
    "Question 6:\n",
    "Please write a binary search function which searches an item in a sorted list. The function should return the index of \n",
    "element to be searched in the list."
   ]
  },
  {
   "cell_type": "code",
   "execution_count": 14,
   "metadata": {},
   "outputs": [
    {
     "name": "stdout",
     "output_type": "stream",
     "text": [
      "2\n",
      "indexof element is  1\n"
     ]
    }
   ],
   "source": [
    "# Python3 Program for recursive binary search.\n",
    "\n",
    "# Returns index of x in arr if present, else -1\n",
    "def binarySearch (l, low, high, item):\n",
    "    if high >= low:\n",
    "        mid = low + (high - 1) // 2\n",
    "        if l[mid] == item:\n",
    "            return mid\n",
    "        elif l[mid] > item:\n",
    "            return binarySearch(l, low, mid-1, item)\n",
    "        else:\n",
    "            return binarySearch(l, mid + 1, high, item)\n",
    "    else:\n",
    "        return -1\n",
    "\n",
    "l= [ 2, 3, 5, 11, 45,78]\n",
    "low=0\n",
    "high=len(l)-1\n",
    "item-int(input())\n",
    "res = binarySearch(l, low, high, item)\n",
    "\n",
    "if result != -1:\n",
    "    print ('indexof element is ' ,res)\n",
    "else:\n",
    "    print (\"Element is not present in array\")\n"
   ]
  },
  {
   "cell_type": "code",
   "execution_count": null,
   "metadata": {},
   "outputs": [],
   "source": []
  }
 ],
 "metadata": {
  "kernelspec": {
   "display_name": "Python 3",
   "language": "python",
   "name": "python3"
  },
  "language_info": {
   "codemirror_mode": {
    "name": "ipython",
    "version": 3
   },
   "file_extension": ".py",
   "mimetype": "text/x-python",
   "name": "python",
   "nbconvert_exporter": "python",
   "pygments_lexer": "ipython3",
   "version": "3.7.3"
  }
 },
 "nbformat": 4,
 "nbformat_minor": 2
}
