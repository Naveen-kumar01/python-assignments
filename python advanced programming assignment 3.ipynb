{
 "cells": [
  {
   "cell_type": "markdown",
   "metadata": {},
   "source": [
    "Q1. Create a function to perform basic arithmetic operations that includesaddition, subtraction, multiplication and division on a string number (e.g. '12+24' or '23-21' or '12 // 12' or '12 * 21').\n",
    "Here, we have 1 followed by a space, operator followed by another space and 2. For the challenge, we are going to have only \n",
    "two numbers between 1 valid operator. The return value should be a number. eval() is not allowed. In case of division,\n",
    "whenever the second number equals '0' return -1."
   ]
  },
  {
   "cell_type": "code",
   "execution_count": 1,
   "metadata": {},
   "outputs": [
    {
     "name": "stdout",
     "output_type": "stream",
     "text": [
      "12 + 12\n"
     ]
    },
    {
     "data": {
      "text/plain": [
       "24"
      ]
     },
     "execution_count": 1,
     "metadata": {},
     "output_type": "execute_result"
    }
   ],
   "source": [
    "def arithematic_operation(s):\n",
    "    res=0\n",
    "    l2=s.split(' ')\n",
    "    num1=l2[0]\n",
    "    num2=l2[2]\n",
    "    if l2[1]=='+':\n",
    "        res=int(num1)+int(num2)\n",
    "        return res\n",
    "    elif l2[1]==\"-\":\n",
    "        res=int(num1)-int(num2)\n",
    "        return res\n",
    "    elif l2[1]==\"*\":\n",
    "        res=int(num1)*int(num2)\n",
    "        return res\n",
    "    else:\n",
    "        try:\n",
    "            res=int(num1)//int(num2)\n",
    "            return res\n",
    "        except:\n",
    "            return -1\n",
    "s=input()\n",
    "arithematic_operation(s)"
   ]
  },
  {
   "cell_type": "markdown",
   "metadata": {},
   "source": [
    "Q2. Write a function that takes the coordinates of three points in the form of a 2d array and returns the perimeter of the \n",
    "triangle. The given points are the vertices of a triangle on a two-dimensional plane."
   ]
  },
  {
   "cell_type": "code",
   "execution_count": 2,
   "metadata": {},
   "outputs": [
    {
     "data": {
      "text/plain": [
       "47.08"
      ]
     },
     "execution_count": 2,
     "metadata": {},
     "output_type": "execute_result"
    }
   ],
   "source": [
    "import math as m\n",
    "l=[[15, 7], [5, 22], [11, 1]]\n",
    "def perimeter(l):\n",
    "    a=l[0]\n",
    "    b=l[1]\n",
    "    c=l[2]\n",
    "    dis_ab=m.sqrt((a[0]-b[0])**2 + (a[1]-b[1])**2)\n",
    "    dis_ac=m.sqrt((a[0]-c[0])**2 + (a[1]-c[1])**2)\n",
    "    dis_bc=m.sqrt((b[0]-c[0])**2 + (b[1]-c[1])**2)\n",
    "    return round(dis_ab+dis_ac+dis_bc,2)\n",
    "perimeter(l)\n",
    "    "
   ]
  },
  {
   "cell_type": "markdown",
   "metadata": {},
   "source": [
    "Q3. A city skyline can be represented as a 2-D list with 1s representing\n",
    "buildings. In the example below, the height of the tallest building is 4 (second-\n",
    "most right column).\n",
    "[[0, 0, 0, 0, 0, 0],\n",
    "[0, 0, 0, 0, 1, 0],\n",
    "[0, 0, 1, 0, 1, 0],\n",
    "[0, 1, 1, 1, 1, 0],\n",
    "[1, 1, 1, 1, 1, 1]]\n",
    "Create a function that takes a skyline (2-D list of 0&#39;s and 1&#39;s) and returns the\n",
    "height of the tallest skyscraper."
   ]
  },
  {
   "cell_type": "code",
   "execution_count": 3,
   "metadata": {},
   "outputs": [
    {
     "data": {
      "text/plain": [
       "2"
      ]
     },
     "execution_count": 3,
     "metadata": {},
     "output_type": "execute_result"
    }
   ],
   "source": [
    "import numpy as np\n",
    "def tallest_skyscraper(l):\n",
    "    max=0\n",
    "    l1= np.flip(l,0)\n",
    "    row=len(l1[0:])\n",
    "    col=len(l1[0][0:])\n",
    "    for j in range(col):\n",
    "        h=0\n",
    "        for i in range(row):\n",
    "            if l[i][j]==1:\n",
    "                h+=1\n",
    "        if max<h:\n",
    "            max=h\n",
    "    return max\n",
    "tallest_skyscraper([\n",
    "[0, 0, 0, 0],\n",
    "[0, 0, 0, 0],\n",
    "[1, 1, 1, 0],\n",
    "[1, 1, 1, 1]\n",
    "])"
   ]
  },
  {
   "cell_type": "markdown",
   "metadata": {},
   "source": [
    "Q4. A financial institution provides professional services to banks and claims charges from the customers based on the number of man-days provided. Internally, it has set a scheme to motivate and reward staff to meet and exceed targeted billable utilization and revenues by paying a bonus for each day claimed from customers in excess of a threshold target.\n",
    "This quarterly scheme is calculated with a threshold target of 32 days per quarter, and the incentive payment for each billable day in excess of such threshold target is shown as follows:\n",
    "Days Bonus\n",
    "0 to 32 days Zero\n",
    "33 to 40 days SGD$325 per billable day\n",
    "41 to 48 days SGD$550 per billable day\n",
    "Greater than 48 days SGD$600 per billable day\n",
    "\n",
    "Please note that incentive payment is calculated progressively. As an\n",
    "example, if an employee reached total billable days of 45 in a quarter, his/her\n",
    "incentive payment is computed as follows:\n",
    "32*0 + 8*325 + 5*550 = 5350\n",
    "Write a function to read the billable days of an employee and return the bonus\n",
    "he/she has obtained in that quarter."
   ]
  },
  {
   "cell_type": "code",
   "execution_count": 4,
   "metadata": {},
   "outputs": [
    {
     "name": "stdout",
     "output_type": "stream",
     "text": [
      "50\n"
     ]
    },
    {
     "data": {
      "text/plain": [
       "8200"
      ]
     },
     "execution_count": 4,
     "metadata": {},
     "output_type": "execute_result"
    }
   ],
   "source": [
    "def bonus(num):\n",
    "    bill=0\n",
    "    num-=32\n",
    "    if num>16:\n",
    "        num-=16\n",
    "        bill+=7000+num*600\n",
    "        return bill\n",
    "    elif(num>8):\n",
    "        bill+=2600+num*550\n",
    "        return bill\n",
    "    elif(num<=8):\n",
    "        bill+=num*325\n",
    "        return bill\n",
    "    else:\n",
    "        return 0\n",
    "n=int(input())\n",
    "bonus(n)"
   ]
  },
  {
   "cell_type": "markdown",
   "metadata": {},
   "source": [
    "Q5. A number is said to be Disarium if the sum of its digits raised to their respective positions is the number itself.\n",
    "Create a function that determines whether a number is a Disarium or not."
   ]
  },
  {
   "cell_type": "code",
   "execution_count": 5,
   "metadata": {},
   "outputs": [
    {
     "name": "stdout",
     "output_type": "stream",
     "text": [
      "8\n"
     ]
    },
    {
     "data": {
      "text/plain": [
       "True"
      ]
     },
     "execution_count": 5,
     "metadata": {},
     "output_type": "execute_result"
    }
   ],
   "source": [
    "def disarium(n1):\n",
    "    l=list(n1)\n",
    "    res=0\n",
    "    for i in range(len(l)):\n",
    "        m=int(l[i])\n",
    "        res+=m**(i+1)\n",
    "    if(res==int(n1)):\n",
    "        return True\n",
    "    else:\n",
    "        return False\n",
    "n1=input()\n",
    "disarium(n1)"
   ]
  }
 ],
 "metadata": {
  "kernelspec": {
   "display_name": "Python 3",
   "language": "python",
   "name": "python3"
  },
  "language_info": {
   "codemirror_mode": {
    "name": "ipython",
    "version": 3
   },
   "file_extension": ".py",
   "mimetype": "text/x-python",
   "name": "python",
   "nbconvert_exporter": "python",
   "pygments_lexer": "ipython3",
   "version": "3.7.3"
  }
 },
 "nbformat": 4,
 "nbformat_minor": 2
}
