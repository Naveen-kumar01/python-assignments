{
 "cells": [
  {
   "cell_type": "markdown",
   "metadata": {},
   "source": [
    "Q1. Create a function that takes the width, height and character and returns a picture frame as a 2D list."
   ]
  },
  {
   "cell_type": "code",
   "execution_count": 3,
   "metadata": {},
   "outputs": [
    {
     "name": "stdout",
     "output_type": "stream",
     "text": [
      "enter row - 4\n",
      "enter col - 5\n",
      "enter symbol - #\n",
      "#####\n",
      "#   #\n",
      "#   #\n",
      "#####\n"
     ]
    }
   ],
   "source": [
    "def get_frame(a,b,s):\n",
    "    if b <= 2:\n",
    "        return \"invalid\"\n",
    "    for i in range(a):\n",
    "        for j in range(b):\n",
    "            if i== 0 or i==a-1:\n",
    "                print(s,end='')\n",
    "            else:\n",
    "                for k in range(b):\n",
    "                    if j==0 or j==b-1:\n",
    "                        print(s,end='')\n",
    "                    else:\n",
    "                        for m in range(b-(b-1)):\n",
    "                            print(\" \",end=\"\")\n",
    "                        break\n",
    "                    break\n",
    "        print()\n",
    "row=int(input('enter row - '))\n",
    "col=int(input('enter col - '))\n",
    "sym=input('enter symbol - ')\n",
    "get_frame(row,col,sym)"
   ]
  },
  {
   "cell_type": "markdown",
   "metadata": {},
   "source": [
    "Q2. Write three functions:\n",
    "\n",
    "1. boolean_and\n",
    "2. boolean_or\n",
    "3. boolean_xor\n",
    "\n",
    "These functions should evaluate a list of True and False values, starting from\n",
    "the leftmost element and evaluating pairwise."
   ]
  },
  {
   "cell_type": "code",
   "execution_count": null,
   "metadata": {},
   "outputs": [],
   "source": [
    "def boolean_and(l):\n",
    "    while(len(l)>1):\n",
    "        i=0\n",
    "        x=(l[i] and l[i+1])\n",
    "        l.pop(0)\n",
    "        l[0]=x\n",
    "        i+=1\n",
    "    return l[0]\n",
    "\n",
    "def boolean_or(l):\n",
    "    while(len(l)>1):\n",
    "        i=0\n",
    "        x=(l[i] or l[i+1])\n",
    "        l.pop(0)\n",
    "        l[0]=x\n",
    "        i+=1\n",
    "    return l[0] \n",
    "\n",
    "def boolean_xor(l):\n",
    "    while(len(l)>1):\n",
    "        i=0\n",
    "        if(l[i] == l[i+1]):\n",
    "            x=False\n",
    "        l.pop(0)\n",
    "        l[0]=x\n",
    "        i+=1\n",
    "    return l[0]\n",
    "l=[True, True, False, False]\n",
    "boolean_xor(l)"
   ]
  },
  {
   "cell_type": "markdown",
   "metadata": {},
   "source": [
    "Q3. Create a function that creates a box based on dimension n."
   ]
  },
  {
   "cell_type": "code",
   "execution_count": 9,
   "metadata": {},
   "outputs": [
    {
     "name": "stdout",
     "output_type": "stream",
     "text": [
      "##\n",
      "##\n"
     ]
    }
   ],
   "source": [
    "def make_box(a,s):\n",
    "    if a <= 2:\n",
    "        for i in range(a):\n",
    "            for j in range(a):\n",
    "                print(s,end='')\n",
    "            print()\n",
    "    else:\n",
    "        for i in range(a):\n",
    "            for j in range(a):\n",
    "                if i== 0 or i==a-1:\n",
    "                    print(s,end='')\n",
    "                else:\n",
    "                    for k in range(a):\n",
    "                        if j==0 or j==a-1:\n",
    "                            print(s,end='')\n",
    "                        else:\n",
    "                            for m in range(a-(a-1)):\n",
    "                                print(\" \",end=\"\")\n",
    "                            break\n",
    "                        break\n",
    "            print()\n",
    "make_box(2,\"#\")"
   ]
  },
  {
   "cell_type": "markdown",
   "metadata": {},
   "source": [
    "Q4. Given a common phrase, return False if any individual word in the phrase contains duplicate letters. Return True \n",
    "otherwise."
   ]
  },
  {
   "cell_type": "code",
   "execution_count": 11,
   "metadata": {},
   "outputs": [
    {
     "name": "stdout",
     "output_type": "stream",
     "text": [
      "enter the string - Fortune favours the bold\n",
      "True\n"
     ]
    }
   ],
   "source": [
    "def no_duplicate_letter(s):\n",
    "    for i in range(len(s)):\n",
    "        for j in range(i+1,len(s)):\n",
    "            if s[i]==s[j]:\n",
    "                return False\n",
    "    else:\n",
    "        return True\n",
    "s=input('enter the string - ')\n",
    "l=s.split()\n",
    "l1=[]\n",
    "for i in l:\n",
    "    l1.append(no_duplicate_letter(i))\n",
    "if False in l1:\n",
    "    print(False)\n",
    "else:\n",
    "    print(True)"
   ]
  },
  {
   "cell_type": "markdown",
   "metadata": {},
   "source": [
    "Q5. Write a regular expression that will match the states that voted yes to President Trump's impeachment."
   ]
  },
  {
   "cell_type": "code",
   "execution_count": 12,
   "metadata": {},
   "outputs": [
    {
     "name": "stdout",
     "output_type": "stream",
     "text": [
      "enter the text for re - Texas = no , California = yes , Florida=yes , Michigan = no\n",
      "['California', 'Florida']\n"
     ]
    }
   ],
   "source": [
    "import re\n",
    "l=[]\n",
    "txt=input('enter the text for re - ')\n",
    "m = re.findall(r'[a-zA-Z]+', txt)\n",
    "for i in range(0,len(m),2):\n",
    "    if m[i+1]==\"yes\":\n",
    "        l.append(m[i])\n",
    "print(l)"
   ]
  }
 ],
 "metadata": {
  "kernelspec": {
   "display_name": "Python 3",
   "language": "python",
   "name": "python3"
  },
  "language_info": {
   "codemirror_mode": {
    "name": "ipython",
    "version": 3
   },
   "file_extension": ".py",
   "mimetype": "text/x-python",
   "name": "python",
   "nbconvert_exporter": "python",
   "pygments_lexer": "ipython3",
   "version": "3.6.13"
  }
 },
 "nbformat": 4,
 "nbformat_minor": 2
}
