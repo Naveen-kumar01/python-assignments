{
 "cells": [
  {
   "cell_type": "markdown",
   "id": "2af91cff",
   "metadata": {},
   "source": [
    "Q1. Given a list of numbers, create a function that removes 25% from every number in the list except the smallest number, and\n",
    "adds the total amount removed to the smallest number."
   ]
  },
  {
   "cell_type": "code",
   "execution_count": 1,
   "id": "fb75a2d7",
   "metadata": {},
   "outputs": [
    {
     "name": "stdout",
     "output_type": "stream",
     "text": [
      "enter the list - 16, 10, 8\n"
     ]
    },
    {
     "data": {
      "text/plain": [
       "[12.0, 7.5, 14.5]"
      ]
     },
     "execution_count": 1,
     "metadata": {},
     "output_type": "execute_result"
    }
   ],
   "source": [
    "def show_the_love(l):\n",
    "    sum=0\n",
    "    res=0\n",
    "    l.sort(reverse=True)\n",
    "    for i in range(len(l)-1):\n",
    "        sum=l[i]*0.25\n",
    "        l[i]=l[i]-sum\n",
    "        res+=sum\n",
    "    l[-1]=l[-1]+res\n",
    "    return l\n",
    "\n",
    "l=list(map(int,input('enter the list - ').split(',')))\n",
    "show_the_love(l)"
   ]
  },
  {
   "cell_type": "markdown",
   "id": "07bc08ff",
   "metadata": {},
   "source": [
    "Q2. Create a function that takes in two words as input and returns a list of three elements, in the following order:\n",
    "\n",
    "1.Shared letters between two words.\n",
    "\n",
    "2.Letters unique to word 1.\n",
    "\n",
    "3.Letters unique to word 2.\n",
    "\n",
    "Each element should have unique letters, and have each letter be alphabetically sorted."
   ]
  },
  {
   "cell_type": "code",
   "execution_count": 2,
   "id": "9ffdf6d0",
   "metadata": {},
   "outputs": [
    {
     "name": "stdout",
     "output_type": "stream",
     "text": [
      "enter first string - sharp\n",
      "enter second string - soap\n"
     ]
    },
    {
     "data": {
      "text/plain": [
       "['aps', 'hr', 'o']"
      ]
     },
     "execution_count": 2,
     "metadata": {},
     "output_type": "execute_result"
    }
   ],
   "source": [
    "def convert(s1,s2):\n",
    "    x1=set(s1)\n",
    "    x2=set(s2)\n",
    "    r=x1.intersection(x2)\n",
    "    r1=x1.difference(x2)\n",
    "    r2=x2.difference(x1)\n",
    "    l=list(r)\n",
    "    l.sort()\n",
    "    s=''.join(l)\n",
    "    l1=list(r1)\n",
    "    l1.sort()\n",
    "    s1=''.join(l1)\n",
    "    l2=list(r2)\n",
    "    l2.sort()\n",
    "    s2=''.join(l2)\n",
    "    return s,s1,s2\n",
    "def letters(s1,s2):\n",
    "    return list(convert(s1,s2))\n",
    "s1=input('enter first string - ')\n",
    "s2=input('enter second string - ')\n",
    "letters(s1,s2)"
   ]
  },
  {
   "cell_type": "markdown",
   "id": "40f5048d",
   "metadata": {},
   "source": [
    "Q3. Write a function that pairs the first number in an array with the last, the second number with the second to last, etc."
   ]
  },
  {
   "cell_type": "code",
   "execution_count": 3,
   "id": "7d1f684b",
   "metadata": {},
   "outputs": [
    {
     "name": "stdout",
     "output_type": "stream",
     "text": [
      "enter the list - 5, 9, 8, 1, 2\n"
     ]
    },
    {
     "data": {
      "text/plain": [
       "[[5, 2], [9, 1], [8, 8]]"
      ]
     },
     "execution_count": 3,
     "metadata": {},
     "output_type": "execute_result"
    }
   ],
   "source": [
    "def pairs(l):\n",
    "    l1=[]\n",
    "    if l is None:\n",
    "        return l1\n",
    "    s=len(l)\n",
    "    for i in range(len(l)//2+1):\n",
    "        l1.append([l[i],l[s-i-1]])\n",
    "    return l1\n",
    "l=list(map(int,input('enter the list - ').split(',')))\n",
    "pairs(l)"
   ]
  },
  {
   "cell_type": "markdown",
   "id": "f45d3563",
   "metadata": {},
   "source": [
    "Q4. Write a function that adds two numbers. The catch, however, is that the numbers will be strings."
   ]
  },
  {
   "cell_type": "code",
   "execution_count": 4,
   "id": "f8e9a8f9",
   "metadata": {},
   "outputs": [
    {
     "name": "stdout",
     "output_type": "stream",
     "text": [
      "enter first string - \n",
      "enter second string - 9\n"
     ]
    },
    {
     "data": {
      "text/plain": [
       "9"
      ]
     },
     "execution_count": 4,
     "metadata": {},
     "output_type": "execute_result"
    }
   ],
   "source": [
    "def add_str_nums(s1,s2):\n",
    "    try:\n",
    "        if s1=='' and s2=='':\n",
    "            return 0\n",
    "        if s1=='':\n",
    "            s1=0\n",
    "            r=int(s1)+int(s2)\n",
    "            return r\n",
    "        if s2=='':\n",
    "            s2=0\n",
    "            r=int(s1)+int(s2)\n",
    "            return r\n",
    "    except:\n",
    "        return -1\n",
    "s1=input('enter first string - ')\n",
    "s2=input('enter second string - ')\n",
    "add_str_nums(s1,s2)"
   ]
  },
  {
   "cell_type": "markdown",
   "id": "ecbe6e07",
   "metadata": {},
   "source": [
    "Q5. lPaeesh le pemu mnxit ehess rtnisg! Oh, sorry, that was supposed to say:\n",
    "\n",
    "Please help me unmix these strings! \n",
    "Somehow my strings have all become mixed up; every pair of characters has been swapped.Help me undo this so I can understand \n",
    "my strings again."
   ]
  },
  {
   "cell_type": "code",
   "execution_count": 5,
   "id": "1f63822c",
   "metadata": {},
   "outputs": [
    {
     "name": "stdout",
     "output_type": "stream",
     "text": [
      "enter the mixed string - hTsii  s aimex dpus rtni.g\n"
     ]
    },
    {
     "data": {
      "text/plain": [
       "'This is a mixed up string.'"
      ]
     },
     "execution_count": 5,
     "metadata": {},
     "output_type": "execute_result"
    }
   ],
   "source": [
    "def unmix(s):\n",
    "    l=list(s)\n",
    "    s1=''\n",
    "    for i in range(0,len(l)-1,2):\n",
    "        l[i],l[i+1]=l[i+1],l[i]\n",
    "    s1+=s1.join(l)\n",
    "    return s1\n",
    "s=input('enter the mixed string - ')\n",
    "unmix(s)"
   ]
  },
  {
   "cell_type": "code",
   "execution_count": null,
   "id": "cb35b9a9",
   "metadata": {},
   "outputs": [],
   "source": []
  }
 ],
 "metadata": {
  "kernelspec": {
   "display_name": "Python 3",
   "language": "python",
   "name": "python3"
  },
  "language_info": {
   "codemirror_mode": {
    "name": "ipython",
    "version": 3
   },
   "file_extension": ".py",
   "mimetype": "text/x-python",
   "name": "python",
   "nbconvert_exporter": "python",
   "pygments_lexer": "ipython3",
   "version": "3.8.8"
  }
 },
 "nbformat": 4,
 "nbformat_minor": 5
}
