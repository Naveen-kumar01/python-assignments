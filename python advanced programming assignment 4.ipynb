{
 "cells": [
  {
   "cell_type": "markdown",
   "metadata": {},
   "source": [
    "Q1. In mathematics, the Fibonacci numbers, commonly denoted Fn, form a sequence, called the Fibonacci sequence, such that \n",
    "each number is the sum of the two preceding ones, starting from 0 and 1:\n",
    "The beginning of the sequence is this:\n",
    "0, 1, 1, 2, 3, 5, 8, 13, 21, 34, 55, 89, 144, ...\n",
    "The function fastFib(num) returns the fibonacci number Fn, of the given num as an argument."
   ]
  },
  {
   "cell_type": "code",
   "execution_count": 1,
   "metadata": {},
   "outputs": [
    {
     "name": "stdout",
     "output_type": "stream",
     "text": [
      "120\n",
      "5358359254990966640871840\n"
     ]
    }
   ],
   "source": [
    "def fib_fast(n):\n",
    "    l=[]\n",
    "    n1 = 0\n",
    "    n2 = 1\n",
    "    if (n < 1):\n",
    "        return\n",
    "    l.append(n1)\n",
    "    for x in range(1, n+1):\n",
    "        l.append(n2)\n",
    "        next = n1 + n2\n",
    "        n1 = n2\n",
    "        n2 = next\n",
    "    print(l[-1])\n",
    "n=int(input())\n",
    "fib_fast(n)"
   ]
  },
  {
   "cell_type": "markdown",
   "metadata": {},
   "source": [
    "Q2. Create a function that takes a strings characters as ASCII and returns each characters hexadecimal value as a string."
   ]
  },
  {
   "cell_type": "code",
   "execution_count": 2,
   "metadata": {},
   "outputs": [
    {
     "name": "stdout",
     "output_type": "stream",
     "text": [
      "Marty Poppinson\n"
     ]
    },
    {
     "data": {
      "text/plain": [
       "'4d 61 72 74 79 20 50 6f 70 70 69 6e 73 6f 6e '"
      ]
     },
     "execution_count": 2,
     "metadata": {},
     "output_type": "execute_result"
    }
   ],
   "source": [
    "def convert_to_hex(s):\n",
    "    s1=''\n",
    "    for i in s:\n",
    "        s1+=''.join(format(ord(i), \"x\"))\n",
    "        s1+=\" \"\n",
    "    return s1\n",
    "s=input()\n",
    "convert_to_hex(s)"
   ]
  },
  {
   "cell_type": "markdown",
   "metadata": {},
   "source": [
    "Q3. Someone has attempted to censor my strings by replacing every vowel with a *, l*k* th*s. Luckily, I've been able to find\n",
    "the vowels that were removed. Given a censored string and a string of the censored vowels, return the\n",
    "original uncensored string."
   ]
  },
  {
   "cell_type": "code",
   "execution_count": 3,
   "metadata": {},
   "outputs": [
    {
     "name": "stdout",
     "output_type": "stream",
     "text": [
      "Wh*r* d*d my v*w*ls g*?\n",
      "eeioeo\n"
     ]
    },
    {
     "data": {
      "text/plain": [
       "'Where did my vowels go?'"
      ]
     },
     "execution_count": 3,
     "metadata": {},
     "output_type": "execute_result"
    }
   ],
   "source": [
    "def uncensor(s,key):\n",
    "    for i in range(len(s)):\n",
    "        if s[i]==\"*\":\n",
    "            m=key.pop(0)\n",
    "            s[i]=m\n",
    "    s=''.join(s)\n",
    "    return s\n",
    "s=input()\n",
    "k=input()\n",
    "key=list(k)\n",
    "l=list(s)\n",
    "uncensor(l,key)"
   ]
  },
  {
   "cell_type": "markdown",
   "metadata": {},
   "source": [
    "Q4. Write a function that takes an IP address and returns the domain name using PTR DNS records."
   ]
  },
  {
   "cell_type": "code",
   "execution_count": 4,
   "metadata": {},
   "outputs": [
    {
     "name": "stdout",
     "output_type": "stream",
     "text": [
      "127.0.0.1\n"
     ]
    },
    {
     "data": {
      "text/plain": [
       "'DESKTOP-5V2B4FQ'"
      ]
     },
     "execution_count": 4,
     "metadata": {},
     "output_type": "execute_result"
    }
   ],
   "source": [
    "import socket\n",
    "def get_domain(s):\n",
    "    return socket.getnameinfo((s,0),0)[0]\n",
    "s=input()\n",
    "get_domain(s)"
   ]
  },
  {
   "cell_type": "markdown",
   "metadata": {},
   "source": [
    "Q5. Create a function that takes an integer n and returns the factorial of factorials. See below examples for a better \n",
    "understanding:"
   ]
  },
  {
   "cell_type": "code",
   "execution_count": 5,
   "metadata": {},
   "outputs": [
    {
     "name": "stdout",
     "output_type": "stream",
     "text": [
      "6\n"
     ]
    },
    {
     "data": {
      "text/plain": [
       "24883200"
      ]
     },
     "execution_count": 5,
     "metadata": {},
     "output_type": "execute_result"
    }
   ],
   "source": [
    "def fact(num):\n",
    "    if num==1:\n",
    "        return 1\n",
    "    else:\n",
    "        r=num*fact(num-1)\n",
    "    return r\n",
    "def fact_of_fact(num):\n",
    "    r=1\n",
    "    while(num):\n",
    "        r=r*fact(num)\n",
    "        num-=1\n",
    "    return r\n",
    "num=int(input())\n",
    "fact_of_fact(num)"
   ]
  }
 ],
 "metadata": {
  "kernelspec": {
   "display_name": "Python 3",
   "language": "python",
   "name": "python3"
  },
  "language_info": {
   "codemirror_mode": {
    "name": "ipython",
    "version": 3
   },
   "file_extension": ".py",
   "mimetype": "text/x-python",
   "name": "python",
   "nbconvert_exporter": "python",
   "pygments_lexer": "ipython3",
   "version": "3.7.3"
  }
 },
 "nbformat": 4,
 "nbformat_minor": 2
}
