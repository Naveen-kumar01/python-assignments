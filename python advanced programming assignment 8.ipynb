{
 "cells": [
  {
   "cell_type": "markdown",
   "metadata": {},
   "source": [
    "Q1. Given a sentence as txt, return True if any two adjacent words have this property: One word ends with a vowel, while the word immediately after begins with a vowel (a e i o u)."
   ]
  },
  {
   "cell_type": "code",
   "execution_count": 1,
   "metadata": {},
   "outputs": [
    {
     "name": "stdout",
     "output_type": "stream",
     "text": [
      "a very large appliance\n"
     ]
    },
    {
     "data": {
      "text/plain": [
       "True"
      ]
     },
     "execution_count": 1,
     "metadata": {},
     "output_type": "execute_result"
    }
   ],
   "source": [
    "d=['a','e','i','o','u']\n",
    "def vowels_link(s):\n",
    "    l=s.split()\n",
    "    for i in range(len(l)-1):\n",
    "        if l[i][-1] in d and l[i+1][0] in d:\n",
    "            return True\n",
    "    else:\n",
    "        return False\n",
    "s=input()\n",
    "vowels_link(s)"
   ]
  },
  {
   "cell_type": "markdown",
   "metadata": {},
   "source": [
    "Q2. You are given three inputs: a string, one letter, and a second letter. Write a function that returns True if every instance of the first letter occurs before every instance of the second letter."
   ]
  },
  {
   "cell_type": "code",
   "execution_count": 2,
   "metadata": {},
   "outputs": [
    {
     "name": "stdout",
     "output_type": "stream",
     "text": [
      "enter sentence: knaves knew about waterfalls\n",
      "enter first letter: k\n",
      "enter second letter: w\n"
     ]
    },
    {
     "data": {
      "text/plain": [
       "True"
      ]
     },
     "execution_count": 2,
     "metadata": {},
     "output_type": "execute_result"
    }
   ],
   "source": [
    "def first_before_second(s,fl,sl):\n",
    "    n=[]\n",
    "    count=0\n",
    "    l=list(s)\n",
    "    for i in l:\n",
    "        if i==fl:\n",
    "            n.append(i)\n",
    "            count+=1\n",
    "        if(i==sl):\n",
    "            n.append(i)\n",
    "    for i in range(count):\n",
    "        if i==sl:\n",
    "            return False\n",
    "    else:\n",
    "        return True\n",
    "\n",
    "s=input('enter sentence: ')\n",
    "fl=input('enter first letter: ')\n",
    "sl=input('enter second letter: ')\n",
    "first_before_second(s,fl,sl)"
   ]
  },
  {
   "cell_type": "markdown",
   "metadata": {},
   "source": [
    "Q3. Create a function that returns the characters from a list or string r on odd or even positions, depending on the specifiers. The specifier will be \"odd\" for items on odd positions (1, 3, 5, ...) and \"even\" for items on even positions (2,\n",
    "4, 6, ...)."
   ]
  },
  {
   "cell_type": "code",
   "execution_count": 3,
   "metadata": {},
   "outputs": [
    {
     "name": "stdout",
     "output_type": "stream",
     "text": [
      "enter choice even or odd: odd\n"
     ]
    },
    {
     "data": {
      "text/plain": [
       "['A', 'B', 'T', 'A', 'I', 'Y']"
      ]
     },
     "execution_count": 3,
     "metadata": {},
     "output_type": "execute_result"
    }
   ],
   "source": [
    "def char_at_pos(l,s):\n",
    "    l1=[]\n",
    "    if type(l)==str:\n",
    "        l=list(l)\n",
    "    if s=='even':\n",
    "        for i in range(1,len(l),2):\n",
    "            l1.append(l[i])\n",
    "    else:\n",
    "        for i in range(0,len(l),2):\n",
    "            l1.append(l[i])\n",
    "    return l1\n",
    "s=input(\"enter choice even or odd: \")\n",
    "char_at_pos([\"A\", \"R\", \"B\", \"I\", \"T\", \"R\", \"A\", \"R\", \"I\", \"L\", \"Y\"],s)"
   ]
  },
  {
   "cell_type": "markdown",
   "metadata": {},
   "source": [
    "Q4. Write a function that returns the greatest common divisor of all list elements. If the greatest common divisor is 1, \n",
    "return 1."
   ]
  },
  {
   "cell_type": "code",
   "execution_count": 4,
   "metadata": {},
   "outputs": [
    {
     "name": "stdout",
     "output_type": "stream",
     "text": [
      "1024,192,2048,512\n"
     ]
    },
    {
     "data": {
      "text/plain": [
       "64"
      ]
     },
     "execution_count": 4,
     "metadata": {},
     "output_type": "execute_result"
    }
   ],
   "source": [
    "import functools as f\n",
    "def gcd(l):\n",
    "    g = lambda a,b:a if b==0 else g(b,a%b)\n",
    "    return f.reduce(lambda x,y:g(x,y),l)\n",
    "l = list(map(int,input().split(',')))\n",
    "gcd(l)\n",
    "\n",
    "# another solution to this prov=blem is by using numpy"
   ]
  },
  {
   "cell_type": "code",
   "execution_count": 5,
   "metadata": {},
   "outputs": [
    {
     "name": "stdout",
     "output_type": "stream",
     "text": [
      "10,20,40\n"
     ]
    },
    {
     "data": {
      "text/plain": [
       "10"
      ]
     },
     "execution_count": 5,
     "metadata": {},
     "output_type": "execute_result"
    }
   ],
   "source": [
    "import numpy as np\n",
    "def gcd(l):\n",
    "    return np.gcd.reduce(l)\n",
    "l=list(map(int,input().split(',')))\n",
    "gcd(l)"
   ]
  },
  {
   "cell_type": "markdown",
   "metadata": {},
   "source": [
    "Q5. A number/string is a palindrome if the digits/characters are the same when\n",
    "read both forward and backward. Examples include \"racecar\" and 12321.\n",
    "Given a positive number n, check if n or the binary representation of n is\n",
    "palindromic. Return the following:\n",
    "- \"Decimal only.\" if only n is a palindrome.\n",
    "- \"Binary only.\" if only the binary representation of n is a palindrome.\n",
    "- \"Decimal and binary.\" if both are palindromes.\n",
    "- \"Neither!\" if neither are palindromes."
   ]
  },
  {
   "cell_type": "code",
   "execution_count": 6,
   "metadata": {},
   "outputs": [
    {
     "name": "stdout",
     "output_type": "stream",
     "text": [
      "313\n"
     ]
    },
    {
     "data": {
      "text/plain": [
       "'Decimal and Binary'"
      ]
     },
     "execution_count": 6,
     "metadata": {},
     "output_type": "execute_result"
    }
   ],
   "source": [
    "def bin_palin(x):\n",
    "    s=''\n",
    "    m=bin(x)[2:]\n",
    "    l=list(m)\n",
    "    l.reverse()\n",
    "    s+=''.join(l)\n",
    "    if s==m:\n",
    "        return True\n",
    "    else:\n",
    "        return False\n",
    "\n",
    "def num_palin(n):\n",
    "    s1=''\n",
    "    s=list(str(n))\n",
    "    s.reverse()\n",
    "    s1+=''.join(s)\n",
    "    if int(s1)==n:\n",
    "        return True\n",
    "    else:\n",
    "        return False\n",
    "def palindrome_type(n):\n",
    "    if num_palin(n)==True and bin_palin(n)==False:\n",
    "        return \"Decimal Only\"\n",
    "    elif num_palin(n)==False and bin_palin(n)==True:\n",
    "        return \"Binary Only\"\n",
    "    elif num_palin(n)==True and bin_palin(n)==True:\n",
    "        return 'Decimal and Binary'\n",
    "    else:\n",
    "        return \"Neither!\"\n",
    "n=int(input())\n",
    "palindrome_type(n)"
   ]
  },
  {
   "cell_type": "code",
   "execution_count": null,
   "metadata": {},
   "outputs": [],
   "source": []
  }
 ],
 "metadata": {
  "kernelspec": {
   "display_name": "Python 3",
   "language": "python",
   "name": "python3"
  },
  "language_info": {
   "codemirror_mode": {
    "name": "ipython",
    "version": 3
   },
   "file_extension": ".py",
   "mimetype": "text/x-python",
   "name": "python",
   "nbconvert_exporter": "python",
   "pygments_lexer": "ipython3",
   "version": "3.6.13"
  }
 },
 "nbformat": 4,
 "nbformat_minor": 2
}
