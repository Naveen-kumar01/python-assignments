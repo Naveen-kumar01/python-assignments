{
 "cells": [
  {
   "cell_type": "markdown",
   "metadata": {},
   "source": [
    "1. Write a Python program to check if the given number is a Disarium Number?"
   ]
  },
  {
   "cell_type": "code",
   "execution_count": 32,
   "metadata": {},
   "outputs": [
    {
     "name": "stdout",
     "output_type": "stream",
     "text": [
      "89\n",
      "disarium number\n"
     ]
    }
   ],
   "source": [
    "n1=input()\n",
    "l=list(n1)\n",
    "res=0\n",
    "for i in range(len(l)):\n",
    "    m=int(l[i])\n",
    "    res+=m**(i+1)\n",
    "if(res==int(n1)):\n",
    "    print('disarium number')\n",
    "else:\n",
    "    print(' not disarium number')\n"
   ]
  },
  {
   "cell_type": "markdown",
   "metadata": {},
   "source": [
    "2. Write a Python program to print all disarium numbers between 1 to 100?"
   ]
  },
  {
   "cell_type": "code",
   "execution_count": 36,
   "metadata": {},
   "outputs": [
    {
     "name": "stdout",
     "output_type": "stream",
     "text": [
      "89\n"
     ]
    }
   ],
   "source": [
    "def disarium(n):\n",
    "    res=0\n",
    "    s=str(n)\n",
    "    l=list(s)\n",
    "    for i in range(len(l)):\n",
    "        m=int(l[i])\n",
    "        res+=m**(i+1)\n",
    "    if(res==int(n1)):\n",
    "        return True\n",
    "        \n",
    "for i in range(1,100):\n",
    "    if(disarium(i)==True):\n",
    "        print(i)    "
   ]
  },
  {
   "cell_type": "markdown",
   "metadata": {},
   "source": [
    "3. Write a Python program to check if the given number is Happy Number?"
   ]
  },
  {
   "cell_type": "code",
   "execution_count": 57,
   "metadata": {},
   "outputs": [
    {
     "name": "stdout",
     "output_type": "stream",
     "text": [
      "7\n",
      "7  Happy number\n"
     ]
    }
   ],
   "source": [
    "def squaresum(n): \n",
    "    s = 0; \n",
    "    while(n): \n",
    "        s+=(n % 10)*(n % 10) \n",
    "        n = int(n / 10)\n",
    "    return s \n",
    "def Happynumber(n):  \n",
    "    s = n; \n",
    "    f = n; \n",
    "    while(True): \n",
    "        s = squaresum(s) \n",
    "        f=squaresum(squaresum(f))\n",
    "        if(s != f): \n",
    "            continue \n",
    "        else: \n",
    "            break \n",
    "    return (s== 1)\n",
    "n = int(input())\n",
    "if (Happynumber(n)): \n",
    "    print(n , \" Happy number\"); \n",
    "else: \n",
    "    print(n , \" not Happy number\");\n",
    "\n"
   ]
  },
  {
   "cell_type": "markdown",
   "metadata": {},
   "source": [
    "4. Write a Python program to print all happy numbers between 1 and 100?"
   ]
  },
  {
   "cell_type": "code",
   "execution_count": 63,
   "metadata": {},
   "outputs": [
    {
     "name": "stdout",
     "output_type": "stream",
     "text": [
      "happy number between 1 and 100 are : \n",
      "1,7,10,13,19,23,28,31,32,44,49,68,70,79,82,86,91,94,97,"
     ]
    }
   ],
   "source": [
    "def squaresum(n): \n",
    "    s = 0; \n",
    "    while(n): \n",
    "        s+=(n % 10)*(n % 10) \n",
    "        n = int(n / 10)\n",
    "    return s \n",
    "def Happynumber(n):  \n",
    "    s = n; \n",
    "    f = n; \n",
    "    while(True): \n",
    "        s = squaresum(s) \n",
    "        f=squaresum(squaresum(f))\n",
    "        if(s != f): \n",
    "            continue \n",
    "        else: \n",
    "            break \n",
    "    return (s== 1)\n",
    "\n",
    "print('happy number between 1 and 100 are : ')\n",
    "for i in range(1,100):\n",
    "    if (Happynumber(i)):\n",
    "        print(i,end=\",\")"
   ]
  },
  {
   "cell_type": "markdown",
   "metadata": {},
   "source": [
    "5. Write a Python program to determine whether the given number is a Harshad Number?"
   ]
  },
  {
   "cell_type": "code",
   "execution_count": 65,
   "metadata": {},
   "outputs": [
    {
     "name": "stdout",
     "output_type": "stream",
     "text": [
      "156\n",
      "156  is harshad number\n"
     ]
    }
   ],
   "source": [
    "n=int(input())\n",
    "sum=0\n",
    "temp=n\n",
    "while(temp>0):\n",
    "    sum+=temp%10\n",
    "    temp=temp//10\n",
    "if(n%sum==0):\n",
    "    print(n,' is harshad number')\n",
    "else:\n",
    "    print(n,' is not harshad number')"
   ]
  },
  {
   "cell_type": "markdown",
   "metadata": {},
   "source": [
    "6. Write a Python program to print all pronic numbers between 1 and 100?"
   ]
  },
  {
   "cell_type": "code",
   "execution_count": 66,
   "metadata": {},
   "outputs": [
    {
     "name": "stdout",
     "output_type": "stream",
     "text": [
      "harshad number between 1 and 100 are : \n",
      "1,2,3,4,5,6,7,8,9,10,12,18,20,21,24,27,30,36,40,42,45,48,50,54,60,63,70,72,80,81,84,90,"
     ]
    }
   ],
   "source": [
    "print('harshad number between 1 and 100 are : ')\n",
    "for i in range(1,100):\n",
    "    sum=0\n",
    "    temp=i\n",
    "    while(temp>0):\n",
    "        sum+=temp%10\n",
    "        temp=temp//10\n",
    "    if(i%sum==0):\n",
    "        print(i,end=',')"
   ]
  },
  {
   "cell_type": "code",
   "execution_count": null,
   "metadata": {},
   "outputs": [],
   "source": []
  }
 ],
 "metadata": {
  "kernelspec": {
   "display_name": "Python 3",
   "language": "python",
   "name": "python3"
  },
  "language_info": {
   "codemirror_mode": {
    "name": "ipython",
    "version": 3
   },
   "file_extension": ".py",
   "mimetype": "text/x-python",
   "name": "python",
   "nbconvert_exporter": "python",
   "pygments_lexer": "ipython3",
   "version": "3.7.3"
  }
 },
 "nbformat": 4,
 "nbformat_minor": 2
}
