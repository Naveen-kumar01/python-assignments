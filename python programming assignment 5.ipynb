{
 "cells": [
  {
   "cell_type": "markdown",
   "metadata": {},
   "source": [
    "1. Write a Python Program to Find LCM?"
   ]
  },
  {
   "cell_type": "code",
   "execution_count": 47,
   "metadata": {},
   "outputs": [
    {
     "name": "stdout",
     "output_type": "stream",
     "text": [
      "10 15\n",
      "The lcm of 10 and 15 is 30\n"
     ]
    }
   ],
   "source": [
    "def lcm(a, b):   \n",
    "    if(b == 0):\n",
    "        return a;\n",
    "    else:\n",
    "        return lcm(b, a % b)\n",
    "n1,n2= map(int,input().split())\n",
    "gcd = lcm(n1, n2)   \n",
    "res = (n1 * n2) // gcd\n",
    "print('The lcm of '+str(n1)+\" and \"+str(n2)+\" is \" +str(res))"
   ]
  },
  {
   "cell_type": "markdown",
   "metadata": {},
   "source": [
    "2. Write a Python Program to Find HCF?"
   ]
  },
  {
   "cell_type": "code",
   "execution_count": 53,
   "metadata": {},
   "outputs": [
    {
     "name": "stdout",
     "output_type": "stream",
     "text": [
      "126 621\n",
      "9\n"
     ]
    }
   ],
   "source": [
    "n1,n2=map(int,input().split())\n",
    "while(abs(n1-n2)>0):\n",
    "    if(n1>n2):\n",
    "        n1=n1-n2\n",
    "    else:\n",
    "        n2=n2-n1\n",
    "print(n1)"
   ]
  },
  {
   "cell_type": "markdown",
   "metadata": {},
   "source": [
    "3. Write a Python Program to Convert Decimal to Binary, Octal and Hexadecimal?"
   ]
  },
  {
   "cell_type": "code",
   "execution_count": 72,
   "metadata": {},
   "outputs": [
    {
     "name": "stdout",
     "output_type": "stream",
     "text": [
      "100\n",
      "1100100\n",
      "144\n",
      "64\n"
     ]
    }
   ],
   "source": [
    "def binarycon(x):\n",
    "    res=''\n",
    "    l=list(bin(x))\n",
    "    l.remove('0')\n",
    "    l.remove('b')\n",
    "    res=''.join(l)\n",
    "    print(res)\n",
    "def octalcon(x):\n",
    "    res=''\n",
    "    l=list(oct(x))\n",
    "    l.remove('0')\n",
    "    l.remove('o')\n",
    "    res=''.join(l)\n",
    "    print(res)\n",
    "def hexcon(x):\n",
    "    res=''\n",
    "    l=list(hex(x))\n",
    "    l.remove('0')\n",
    "    l.remove('x')\n",
    "    res=''.join(l)\n",
    "    print(res)\n",
    "x=int(input())\n",
    "binarycon(x)\n",
    "octalcon(x)\n",
    "hexcon(x)"
   ]
  },
  {
   "cell_type": "markdown",
   "metadata": {},
   "source": [
    "4. Write a Python Program To Find ASCII value of a character?"
   ]
  },
  {
   "cell_type": "code",
   "execution_count": 75,
   "metadata": {},
   "outputs": [
    {
     "name": "stdout",
     "output_type": "stream",
     "text": [
      "$\n",
      "36\n"
     ]
    }
   ],
   "source": [
    "x=input()\n",
    "print(ord(x))"
   ]
  },
  {
   "cell_type": "markdown",
   "metadata": {},
   "source": [
    "5. Write a Python Program to Make a Simple Calculator with 4 basic mathematical operations?"
   ]
  },
  {
   "cell_type": "code",
   "execution_count": 77,
   "metadata": {},
   "outputs": [
    {
     "name": "stdout",
     "output_type": "stream",
     "text": [
      "2 9\n",
      "11\n",
      "-7\n",
      "18\n",
      "0.2222222222222222\n"
     ]
    }
   ],
   "source": [
    "def addition(a,b):\n",
    "    return a+b\n",
    "def subtraction(a,b):\n",
    "    return a-b\n",
    "def multiply(a,b):\n",
    "    return a*b\n",
    "def divide(a,b):\n",
    "    return a/b\n",
    "n1,n2=map(int,input().split())\n",
    "print(addition(n1,n2))\n",
    "print(subtraction(n1,n2))\n",
    "print(multiply(n1,n2))\n",
    "print(divide(n1,n2))"
   ]
  }
 ],
 "metadata": {
  "kernelspec": {
   "display_name": "Python 3",
   "language": "python",
   "name": "python3"
  },
  "language_info": {
   "codemirror_mode": {
    "name": "ipython",
    "version": 3
   },
   "file_extension": ".py",
   "mimetype": "text/x-python",
   "name": "python",
   "nbconvert_exporter": "python",
   "pygments_lexer": "ipython3",
   "version": "3.7.3"
  }
 },
 "nbformat": 4,
 "nbformat_minor": 2
}
