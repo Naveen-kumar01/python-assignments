{
 "cells": [
  {
   "cell_type": "markdown",
   "metadata": {},
   "source": [
    "Q1. What are the Boolean data types two values? How do you go about writing them?"
   ]
  },
  {
   "cell_type": "markdown",
   "metadata": {},
   "source": [
    "Ans - The boolean datatype have two type of values:\n",
    "\n",
    "      1.True\n",
    "\n",
    "      2.False"
   ]
  },
  {
   "cell_type": "code",
   "execution_count": 1,
   "metadata": {},
   "outputs": [
    {
     "name": "stdout",
     "output_type": "stream",
     "text": [
      "<class 'bool'>\n",
      "<class 'bool'>\n",
      "False\n",
      "True\n"
     ]
    }
   ],
   "source": [
    "a=True\n",
    "print(type(a))\n",
    "b=False\n",
    "print(type(b))\n",
    "c=0\n",
    "print(bool(c))   \n",
    "d=1\n",
    "print(bool(d)) "
   ]
  },
  {
   "cell_type": "markdown",
   "metadata": {},
   "source": [
    "Q2. What are the three different types of Boolean operators?"
   ]
  },
  {
   "cell_type": "markdown",
   "metadata": {},
   "source": [
    "Ans - The Three different types of boolean operators are:\n",
    "    \n",
    "    1.and- both the values have to be true to return true,if either one of the values is false it will return false \n",
    "    \n",
    "    2.or- both the values have to be true to return true,if either one of the values is true it will return true,otherwise    \n",
    "          false\n",
    "    \n",
    "    3.not- it convert true to false and vice versa."
   ]
  },
  {
   "cell_type": "markdown",
   "metadata": {},
   "source": [
    "Q3. Make a list of each Boolean operators truth tables (i.e. every possible combination of Boolean values for the operator \n",
    "    and what it evaluate )."
   ]
  },
  {
   "cell_type": "code",
   "execution_count": 9,
   "metadata": {},
   "outputs": [
    {
     "name": "stdout",
     "output_type": "stream",
     "text": [
      "True or True =  True \n",
      " True or False =  True \n",
      " False or True =  True \n",
      " False or False =  False\n"
     ]
    }
   ],
   "source": [
    "#OR table\n",
    "print(\"True or True = \",True or True,'\\n',\"True or False = \",True or False,'\\n',\"False or True = \",False or True,'\\n',\"False or False = \",False or False)"
   ]
  },
  {
   "cell_type": "code",
   "execution_count": 10,
   "metadata": {},
   "outputs": [
    {
     "name": "stdout",
     "output_type": "stream",
     "text": [
      "True and True =  True \n",
      " True and False =  False \n",
      " False and True =  False \n",
      " False and False =  False\n"
     ]
    }
   ],
   "source": [
    "#AND table\n",
    "print(\"True and True = \",True and True,'\\n',\"True and False = \",True and False,'\\n',\"False and True = \",False and True,'\\n',\"False and False = \",False and False)"
   ]
  },
  {
   "cell_type": "code",
   "execution_count": 12,
   "metadata": {},
   "outputs": [
    {
     "name": "stdout",
     "output_type": "stream",
     "text": [
      "not(True) =  False \n",
      " not(False) =  True\n"
     ]
    }
   ],
   "source": [
    "#NOT table\n",
    "print(\"not(True) = \",not(True),'\\n',\"not(False) = \",not(False))"
   ]
  },
  {
   "cell_type": "markdown",
   "metadata": {},
   "source": [
    "Q4. What are the values of the following expressions?\n",
    "\n",
    "(5 > 4) and (3 == 5)\n",
    "\n",
    "not (5 > 4)\n",
    "\n",
    "(5 > 4) or (3 == 5)\n",
    "\n",
    "not ((5 > 4) or (3 == 5))\n",
    "\n",
    "(True and True) and (True == False)\n",
    "\n",
    "(not False) or (not True)"
   ]
  },
  {
   "cell_type": "code",
   "execution_count": 14,
   "metadata": {},
   "outputs": [
    {
     "name": "stdout",
     "output_type": "stream",
     "text": [
      "False\n",
      "False\n",
      "True\n",
      "False\n",
      "False\n",
      "True\n"
     ]
    }
   ],
   "source": [
    "print((5 > 4) and (3 == 5))\n",
    "print(not (5 > 4))\n",
    "print((5 > 4) or (3 == 5))\n",
    "print(not ((5 > 4) or (3 == 5)))\n",
    "print((True and True) and (True == False))\n",
    "print((not False) or (not True))\n"
   ]
  },
  {
   "cell_type": "markdown",
   "metadata": {},
   "source": [
    "Q5. What are the six different types of reference operators?"
   ]
  },
  {
   "cell_type": "markdown",
   "metadata": {},
   "source": [
    "Ans - 1.Arithmetic operators - a+b\n",
    "\n",
    "      2.Assignment operators - a+=b\n",
    "\n",
    "      3.Comparison operators - a>b\n",
    "\n",
    "      4.Logical operators - 1 or 0\n",
    "\n",
    "      5.Identity operators - is, is not\n",
    "\n",
    "      6.Bitwise operators - <<,^(XOR) etc."
   ]
  },
  {
   "cell_type": "markdown",
   "metadata": {},
   "source": [
    "Q6. How do you tell the difference between the equal to and assignment operators?"
   ]
  },
  {
   "cell_type": "markdown",
   "metadata": {},
   "source": [
    "Ans - The equal to operator is used to check whether two values are equal or not.\n",
    "      The assignment operators is used for assigning a value to a variable."
   ]
  },
  {
   "cell_type": "code",
   "execution_count": 15,
   "metadata": {},
   "outputs": [
    {
     "name": "stdout",
     "output_type": "stream",
     "text": [
      "True\n"
     ]
    }
   ],
   "source": [
    "#assignment operator\n",
    "a=10\n",
    "#equal to operator\n",
    "b=10\n",
    "print(a==b)"
   ]
  },
  {
   "cell_type": "markdown",
   "metadata": {},
   "source": [
    "Q7. Describe a condition and when you would use one."
   ]
  },
  {
   "cell_type": "markdown",
   "metadata": {},
   "source": [
    "Ans - We use condition when there is a need to make decision and based on that decision our action are decided, that what we         will do in the code according to condition. There are various type of conditions such as (if else), (if else if), nested       if etc."
   ]
  },
  {
   "cell_type": "code",
   "execution_count": 17,
   "metadata": {},
   "outputs": [
    {
     "name": "stdout",
     "output_type": "stream",
     "text": [
      "buy rc car\n"
     ]
    }
   ],
   "source": [
    "cash=1000\n",
    "if(cash>500):\n",
    "    print(\"buy rc car\")\n",
    "else:\n",
    "    print(\"buy normal car\")"
   ]
  },
  {
   "cell_type": "markdown",
   "metadata": {},
   "source": [
    "Q8. Recognize the following three blocks in this code:\n",
    "\n",
    "spam = 0\n",
    "\n",
    "if spam == 10:\n",
    "    \n",
    "    print(\"eggs\")\n",
    "    \n",
    "    if spam > 5:\n",
    "        \n",
    "        print(\"bacon\")\n",
    "    \n",
    "    else:\n",
    "        \n",
    "        print(\"ham\")\n",
    "    print(\"spam\")\n",
    "\n",
    "print(\"spam\")"
   ]
  },
  {
   "cell_type": "markdown",
   "metadata": {},
   "source": [
    "Ans - The value in spam is 0 and the first if condition will become false so it will not enter the body of that if statement.\n",
    "      Thus the last print statement will get executed automatically at the end of the code as it is outside the if statement."
   ]
  },
  {
   "cell_type": "code",
   "execution_count": 21,
   "metadata": {},
   "outputs": [
    {
     "name": "stdout",
     "output_type": "stream",
     "text": [
      "spam\n"
     ]
    }
   ],
   "source": [
    "spam = 0\n",
    "if spam == 10:\n",
    "    print(\"eggs\")\n",
    "    if spam > 5:\n",
    "        print(\"bacon\")\n",
    "    else:\n",
    "        print(\"ham\")\n",
    "    print(\"spam\")\n",
    "print(\"spam\")"
   ]
  },
  {
   "cell_type": "markdown",
   "metadata": {},
   "source": [
    "Q9. Create a programme that prints. If 1 is stored in spam, prints Hello; if 2 is stored in spam, prints Howdy; and if 3 is stored in spam, prints Salutations ! if there's something else in spam."
   ]
  },
  {
   "cell_type": "code",
   "execution_count": 22,
   "metadata": {},
   "outputs": [
    {
     "name": "stdout",
     "output_type": "stream",
     "text": [
      "3\n",
      "Howdy\n"
     ]
    }
   ],
   "source": [
    "spam=int(input())\n",
    "if(spam==1):\n",
    "    print(\"noting was given in question so\")\n",
    "elif(spam==2):\n",
    "    print(\"Hello\")\n",
    "elif(spam==3):\n",
    "    print(\"Howdy\")\n",
    "else:\n",
    "    print(\"salutation!\")"
   ]
  },
  {
   "cell_type": "markdown",
   "metadata": {},
   "source": [
    "Q10.If your programme is stuck in an endless loop, what keys can you press?"
   ]
  },
  {
   "cell_type": "markdown",
   "metadata": {},
   "source": [
    "Ans - If the code is stuck in an infinite loop we can use\n",
    "\n",
    "      Ctrl+C to end the execution of the code."
   ]
  },
  {
   "cell_type": "markdown",
   "metadata": {},
   "source": [
    "Q11. How can you tell the difference between break and continue?"
   ]
  },
  {
   "cell_type": "markdown",
   "metadata": {},
   "source": [
    "Ans - The break statement terminates the loop, while the continue statement just skips that single iteration of the loop"
   ]
  },
  {
   "cell_type": "code",
   "execution_count": 38,
   "metadata": {},
   "outputs": [
    {
     "name": "stdout",
     "output_type": "stream",
     "text": [
      "n a "
     ]
    }
   ],
   "source": [
    "s=\"naveen\"\n",
    "for i in s:\n",
    "    if(i==\"v\"):\n",
    "        break\n",
    "    else:\n",
    "        print(i,end=\" \")"
   ]
  },
  {
   "cell_type": "code",
   "execution_count": 37,
   "metadata": {},
   "outputs": [
    {
     "name": "stdout",
     "output_type": "stream",
     "text": [
      "n a e e n "
     ]
    }
   ],
   "source": [
    "for i in s:\n",
    "    if(i==\"v\"):\n",
    "        continue\n",
    "    else:\n",
    "        print(i,end=\" \")"
   ]
  },
  {
   "cell_type": "markdown",
   "metadata": {},
   "source": [
    "Q12. In a for loop, what is the difference between range(10), range(0, 10), and range(0, 10, 1)?"
   ]
  },
  {
   "cell_type": "markdown",
   "metadata": {},
   "source": [
    "Ans -All are same there is no difference in them"
   ]
  },
  {
   "cell_type": "code",
   "execution_count": 41,
   "metadata": {},
   "outputs": [
    {
     "name": "stdout",
     "output_type": "stream",
     "text": [
      "range(0, 10)\n",
      "range(0, 10)\n",
      "range(0, 10)\n"
     ]
    }
   ],
   "source": [
    "print(range(10))\n",
    "print(range(0,10))\n",
    "print(range(0,10,1))"
   ]
  },
  {
   "cell_type": "markdown",
   "metadata": {},
   "source": [
    "Q13. Using a for loop, write a short programme that prints the numbers 1 to 10 Then, using a while loop, create an identical\n",
    "programme that prints the numbers 1 to 10."
   ]
  },
  {
   "cell_type": "code",
   "execution_count": 47,
   "metadata": {},
   "outputs": [
    {
     "name": "stdout",
     "output_type": "stream",
     "text": [
      "1 2 3 4 5 6 7 8 9 10 "
     ]
    }
   ],
   "source": [
    "n=10\n",
    "for i in range(1,n+1):\n",
    "    print(i,end=\" \")"
   ]
  },
  {
   "cell_type": "code",
   "execution_count": 48,
   "metadata": {},
   "outputs": [
    {
     "name": "stdout",
     "output_type": "stream",
     "text": [
      "1 2 3 4 5 6 7 8 9 10 "
     ]
    }
   ],
   "source": [
    "j=1\n",
    "n=10\n",
    "while(j<n+1):\n",
    "    print(j,end=\" \")\n",
    "    j+=1"
   ]
  },
  {
   "cell_type": "markdown",
   "metadata": {},
   "source": [
    "Q14. If you had a bacon() function within a spam module, what would you call it after importing\n",
    "spam?"
   ]
  },
  {
   "cell_type": "markdown",
   "metadata": {},
   "source": [
    "Ans - import spam\n",
    "\n",
    "      spam.bacon()"
   ]
  }
 ],
 "metadata": {
  "kernelspec": {
   "display_name": "Python 3",
   "language": "python",
   "name": "python3"
  },
  "language_info": {
   "codemirror_mode": {
    "name": "ipython",
    "version": 3
   },
   "file_extension": ".py",
   "mimetype": "text/x-python",
   "name": "python",
   "nbconvert_exporter": "python",
   "pygments_lexer": "ipython3",
   "version": "3.7.3"
  }
 },
 "nbformat": 4,
 "nbformat_minor": 2
}
