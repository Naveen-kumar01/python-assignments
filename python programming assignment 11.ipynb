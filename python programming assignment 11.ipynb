{
 "cells": [
  {
   "cell_type": "markdown",
   "metadata": {},
   "source": [
    "1. Write a Python program to find words which are greater than given length k?"
   ]
  },
  {
   "cell_type": "code",
   "execution_count": 4,
   "metadata": {},
   "outputs": [
    {
     "name": "stdout",
     "output_type": "stream",
     "text": [
      "5\n",
      "A rose is a woody perennial flowering plant of the genus Rosa, in the family Rosaceae, or the flower it bears\n",
      "words that have length greater than k are :\n",
      "perennial,flowering,family,Rosaceae,,flower,"
     ]
    }
   ],
   "source": [
    "k=int(input())\n",
    "s=input()\n",
    "l=s.split()\n",
    "print('words that have length greater than k are :')\n",
    "for i in l:\n",
    "    if(len(i)>k):\n",
    "        print(i,end=',')"
   ]
  },
  {
   "cell_type": "markdown",
   "metadata": {},
   "source": [
    "2. Write a Python program for removing i-th character from a string?"
   ]
  },
  {
   "cell_type": "code",
   "execution_count": 8,
   "metadata": {},
   "outputs": [
    {
     "name": "stdout",
     "output_type": "stream",
     "text": [
      "helloworld\n",
      "enter index to remove : 6\n",
      "helloorld\n"
     ]
    }
   ],
   "source": [
    "s=input()\n",
    "res=''\n",
    "l=list(s)\n",
    "j=int(input('enter index to remove : '))\n",
    "l.pop(j-1)\n",
    "res=''.join(l)\n",
    "print(res)"
   ]
  },
  {
   "cell_type": "markdown",
   "metadata": {},
   "source": [
    "3. Write a Python program to split and join a string?"
   ]
  },
  {
   "cell_type": "code",
   "execution_count": 11,
   "metadata": {},
   "outputs": [
    {
     "name": "stdout",
     "output_type": "stream",
     "text": [
      "hello world\n",
      "hello@world\n"
     ]
    }
   ],
   "source": [
    "s=input()\n",
    "res=''\n",
    "l=s.split()\n",
    "res='@'.join(l)\n",
    "print(res)"
   ]
  },
  {
   "cell_type": "markdown",
   "metadata": {},
   "source": [
    "4. Write a Python to check if a given string is binary string or not?"
   ]
  },
  {
   "cell_type": "code",
   "execution_count": 16,
   "metadata": {},
   "outputs": [
    {
     "name": "stdout",
     "output_type": "stream",
     "text": [
      "101010101\n",
      "binary string\n"
     ]
    }
   ],
   "source": [
    "s=input()\n",
    "l=list(s)\n",
    "for i in l:\n",
    "    if i=='1' or i=='0':\n",
    "        continue\n",
    "    else:\n",
    "        print('not a binary string')\n",
    "        break\n",
    "if(i==l[-1]):\n",
    "    print('binary string')"
   ]
  },
  {
   "cell_type": "markdown",
   "metadata": {},
   "source": [
    "5. Write a Python program to find uncommon words from two Strings?"
   ]
  },
  {
   "cell_type": "code",
   "execution_count": 26,
   "metadata": {},
   "outputs": [
    {
     "name": "stdout",
     "output_type": "stream",
     "text": [
      "hello im going to school\n",
      "wait im also going to park\n",
      "{'park', 'hello', 'also', 'wait', 'school'}\n"
     ]
    }
   ],
   "source": [
    "s1=input()\n",
    "s2=input()\n",
    "a=set(s1.split())\n",
    "b=set(s2.split())\n",
    "print((a-b).union(b-a))"
   ]
  },
  {
   "cell_type": "markdown",
   "metadata": {},
   "source": [
    "6. Write a Python to find all duplicate characters in string?"
   ]
  },
  {
   "cell_type": "code",
   "execution_count": 37,
   "metadata": {},
   "outputs": [
    {
     "name": "stdout",
     "output_type": "stream",
     "text": [
      "hello world\n",
      "dulicate characters are : \n",
      "l\n",
      "o\n"
     ]
    }
   ],
   "source": [
    "s=input()\n",
    "d={}\n",
    "l=list(s)\n",
    "for i in l:\n",
    "    if(i in d):\n",
    "        d[i]+=1\n",
    "    else:\n",
    "        d[i]=1\n",
    "print('dulicate characters are : ')\n",
    "for i in d.items():\n",
    "        if(i[1]>1):\n",
    "            print(i[0])"
   ]
  },
  {
   "cell_type": "markdown",
   "metadata": {},
   "source": [
    "7. Write a Python Program to check if a string contains any special character?"
   ]
  },
  {
   "cell_type": "code",
   "execution_count": 41,
   "metadata": {},
   "outputs": [
    {
     "name": "stdout",
     "output_type": "stream",
     "text": [
      "!hello\n",
      "string contain special character\n"
     ]
    }
   ],
   "source": [
    "s=input()\n",
    "l1=['{', '}', '|', '~', '[',']','/','^','_','`',':',';','>','<','=','?','@','#','$','%','&','*','(',')','-','.',',','!']\n",
    "for i in s:\n",
    "    if i in l1:\n",
    "        print('string contain special character')\n",
    "        break\n",
    "if(i==s[-1]):\n",
    "    print('string does not contain special character')"
   ]
  }
 ],
 "metadata": {
  "kernelspec": {
   "display_name": "Python 3",
   "language": "python",
   "name": "python3"
  },
  "language_info": {
   "codemirror_mode": {
    "name": "ipython",
    "version": 3
   },
   "file_extension": ".py",
   "mimetype": "text/x-python",
   "name": "python",
   "nbconvert_exporter": "python",
   "pygments_lexer": "ipython3",
   "version": "3.7.3"
  }
 },
 "nbformat": 4,
 "nbformat_minor": 2
}
