{
 "cells": [
  {
   "cell_type": "markdown",
   "metadata": {},
   "source": [
    "Q1. Create a function that takes a list and string. The function should remove the letters in the string from the list,\n",
    "and return the list."
   ]
  },
  {
   "cell_type": "code",
   "execution_count": 1,
   "metadata": {},
   "outputs": [
    {
     "name": "stdout",
     "output_type": "stream",
     "text": [
      "enter list - b,b,l,l,g,n,o,a,w\n",
      "enter string - balloon\n"
     ]
    },
    {
     "data": {
      "text/plain": [
       "['b', 'g', 'w']"
      ]
     },
     "execution_count": 1,
     "metadata": {},
     "output_type": "execute_result"
    }
   ],
   "source": [
    "def remove_letters(l,s):\n",
    "    for i in s:\n",
    "        if i in l:\n",
    "            l.remove(i)\n",
    "    return(l)\n",
    "l=list(map(str,input('enter list - ').split(',')))\n",
    "s=input('enter string - ')\n",
    "remove_letters(l,s)"
   ]
  },
  {
   "cell_type": "markdown",
   "metadata": {},
   "source": [
    "Q2. A block sequence in three dimensions. We can write a formula for this one: \n",
    "Create a function that takes a number (step) as an argument and returns the amount of blocks in that step."
   ]
  },
  {
   "cell_type": "code",
   "execution_count": 2,
   "metadata": {},
   "outputs": [
    {
     "name": "stdout",
     "output_type": "stream",
     "text": [
      "enter number - 5\n"
     ]
    },
    {
     "data": {
      "text/plain": [
       "39"
      ]
     },
     "execution_count": 2,
     "metadata": {},
     "output_type": "execute_result"
    }
   ],
   "source": [
    "def resolve(n):\n",
    "    i=4\n",
    "    sum=0\n",
    "    if n==1:\n",
    "        return 0\n",
    "    else:\n",
    "        while(n>1):\n",
    "            sum+=i\n",
    "            i+=1\n",
    "            n-=1\n",
    "        return sum\n",
    "def blocks(num):\n",
    "        ans=3*(num-1)+5+resolve(num)\n",
    "        return ans\n",
    "num=int(input('enter number - '))\n",
    "blocks(num)"
   ]
  },
  {
   "cell_type": "markdown",
   "metadata": {},
   "source": [
    "Q3. Create a function that subtracts one positive integer from another, without using any arithmetic operators such \n",
    " as -, %, /, +, etc."
   ]
  },
  {
   "cell_type": "code",
   "execution_count": 3,
   "metadata": {},
   "outputs": [
    {
     "name": "stdout",
     "output_type": "stream",
     "text": [
      "enter first number - 10\n",
      "enter second number - 9\n",
      "the subtraction resulted in -  1\n"
     ]
    }
   ],
   "source": [
    "def my_sub(n1, n2):\n",
    " \n",
    "    if (n2 == 0):\n",
    "        return n1\n",
    "    return my_sub(n1 ^ n2, (~n1 & n2) << 1)\n",
    " \n",
    "# Driver program\n",
    "n1=int(input('enter first number - '))\n",
    "n2=int(input('enter second number - '))\n",
    "print(\"the subtraction resulted in - \", my_sub(n1,n2))"
   ]
  },
  {
   "cell_type": "markdown",
   "metadata": {},
   "source": [
    "Q4. Create a function that takes a string containing money in dollars and pounds sterling (seperated by comma) and returns \n",
    "the sum of dollar bills only, as an integer.\n",
    "For the input string:\n",
    "- Each amount is prefixed by the currency symbol: $ for dollars and £ for pounds.\n",
    "- Thousands are represented by the suffix k.\n",
    "i.e. $4k = $4,000 and £40k = £40,000"
   ]
  },
  {
   "cell_type": "code",
   "execution_count": 4,
   "metadata": {},
   "outputs": [
    {
     "name": "stdout",
     "output_type": "stream",
     "text": [
      "enter bill string - p30,d2k,p60,d200,p360\n"
     ]
    },
    {
     "data": {
      "text/plain": [
       "2200"
      ]
     },
     "execution_count": 4,
     "metadata": {},
     "output_type": "execute_result"
    }
   ],
   "source": [
    "def add_bill(s):\n",
    "    l=s.split(',')\n",
    "    l1=[]\n",
    "    sum=0\n",
    "    c=0\n",
    "    for i in l:\n",
    "        if i[0]=='d':\n",
    "            l1.append(i)\n",
    "    for j in l1:\n",
    "        if j[-1]=='k':\n",
    "            j=j.replace('k','')\n",
    "            carry=1000\n",
    "            r=j.rpartition('d')\n",
    "            carry=1000\n",
    "            sum+=int(r[2])*carry\n",
    "        else:\n",
    "            r=j.rpartition('d')\n",
    "            carry=1\n",
    "            sum+=int(r[2])*carry\n",
    "    return sum\n",
    "s=input('enter bill string - ')\n",
    "add_bill(s)"
   ]
  },
  {
   "cell_type": "markdown",
   "metadata": {},
   "source": [
    "Q5. Create a function that flips a horizontal list into a vertical list, and a vertical list into a horizontal list.\n",
    "In other words, take an 1 x n list (1 row + n columns) and flip it into a n x 1 list (n rows and 1 column), and vice versa."
   ]
  },
  {
   "cell_type": "code",
   "execution_count": 5,
   "metadata": {},
   "outputs": [
    {
     "data": {
      "text/plain": [
       "[5, 6, 9]"
      ]
     },
     "execution_count": 5,
     "metadata": {},
     "output_type": "execute_result"
    }
   ],
   "source": [
    "def flip_list(l):\n",
    "    if isinstance(l[0],list): \n",
    "        return [x[0] for x in l]\n",
    "    else: \n",
    "        return [[x] for x in l]\n",
    "l=[[5], [6], [9]]\n",
    "flip_list(l)\n"
   ]
  },
  {
   "cell_type": "code",
   "execution_count": null,
   "metadata": {},
   "outputs": [],
   "source": []
  }
 ],
 "metadata": {
  "kernelspec": {
   "display_name": "Python 3",
   "language": "python",
   "name": "python3"
  },
  "language_info": {
   "codemirror_mode": {
    "name": "ipython",
    "version": 3
   },
   "file_extension": ".py",
   "mimetype": "text/x-python",
   "name": "python",
   "nbconvert_exporter": "python",
   "pygments_lexer": "ipython3",
   "version": "3.6.13"
  }
 },
 "nbformat": 4,
 "nbformat_minor": 2
}
