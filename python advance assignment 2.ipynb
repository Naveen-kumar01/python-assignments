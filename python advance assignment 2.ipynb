{
 "cells": [
  {
   "cell_type": "markdown",
   "metadata": {},
   "source": [
    "Q1. What is the relationship between classes and modules?"
   ]
  },
  {
   "cell_type": "markdown",
   "metadata": {},
   "source": [
    "A1 - The module is group of functions that can help in solving a problem, these mode=ule can only be imported such as \n",
    "     sklearn library it contain various function an directories also, but in a class you can create methods instantiate \n",
    "     varibles which hold a memory, and can be used as many times as possible, it ind=creases the reusablity of code.\n",
    "     for ex -\n",
    "       import pandas as pd \n",
    "     --> here the pandas is a module which is imported from library and pd is an alias used as naming convention.\n",
    "     \n",
    "    class A:\n",
    "        def __init__(self):\n",
    "            print(\"hello\")\n",
    "        def disp(self):\n",
    "            print('class A')\n",
    "    --> Now by creating the object of class A we can use increase its reusablity."
   ]
  },
  {
   "cell_type": "markdown",
   "metadata": {},
   "source": [
    "Q2. How do you make instances and classes?"
   ]
  },
  {
   "cell_type": "markdown",
   "metadata": {},
   "source": [
    "A2 - The classes are created when the class is defined, the body contains a special function init, which contain all the \n",
    "     varaible, which must be passed as an arguments whenever there is creation of instance of class. An insatnce is nothing but \n",
    "     the object that is created through which all the variables and methods are accessed in the class. \n",
    "     class Car:\n",
    "     x=10\n",
    "     def __init__(self,a):\n",
    "          self.a=a\n",
    "     def disp(self):\n",
    "         print(self.a)\n",
    "c1=Car(100)      ------>   creating instance object\n",
    "c1.disp()        ------>   accessing the methods \n",
    "print(Car.x)     ------>   accessing the variables "
   ]
  },
  {
   "cell_type": "markdown",
   "metadata": {},
   "source": [
    "Q3. Where and how should be class attributes created?"
   ]
  },
  {
   "cell_type": "markdown",
   "metadata": {},
   "source": [
    "A3 - class attributes belong to the class itself. They will be shared by all the instances of the \n",
    "     class. Therefore they have the same value for every instance. We define class attributes outside all the methods, \n",
    "     usually they are placed at the top, right below the class header.\n",
    "     for example - \n",
    "     class A:\n",
    "        a =10\n",
    "    x = A()\n",
    "    y = A()\n",
    "    x.a   -----> this value is 10\n",
    "    y.a   -----> this vallue is also similar to x = 10\n",
    "    These value can also be chsnged using class_name.variable_name, then the value can be updated also."
   ]
  },
  {
   "cell_type": "markdown",
   "metadata": {},
   "source": [
    "Q4. Where and how are instance attributes created?"
   ]
  },
  {
   "cell_type": "markdown",
   "metadata": {},
   "source": [
    "A4 - Instance attributes are attached to object of a class. Instance attributes are defined in the \n",
    "     constructor. Defined directly inside a class. Defined inside a constructor using the self parameter.\n",
    "    \n",
    "    class Student:\n",
    "        def __init__(self, name, age): \n",
    "            self.name = name\n",
    "            self.age = age\n",
    "    std = Student('Bill',25)\n",
    "    std.name"
   ]
  },
  {
   "cell_type": "markdown",
   "metadata": {},
   "source": [
    "Q5. What does the term self in a Python class mean?"
   ]
  },
  {
   "cell_type": "markdown",
   "metadata": {},
   "source": [
    "A5 - The first argument in the class's method function is self, which refers to the current instance object. All the methods in the class should contain a self argument. The first parameter of methods is the instance the method is called on by object of the class. \n",
    "\n",
    "for example- \n",
    "\n",
    "class check: \n",
    "\n",
    "    def init(self,a): \n",
    "    \n",
    "        self.a=a print('hello') \n",
    "    \n",
    "    def disp(self): \n",
    "        print(self.a) \n",
    "\n",
    "obj = check(10) \n",
    "\n",
    "obj.disp()"
   ]
  },
  {
   "cell_type": "markdown",
   "metadata": {},
   "source": [
    "Q6. How does a Python class handle operator overloading?"
   ]
  },
  {
   "cell_type": "markdown",
   "metadata": {},
   "source": [
    "A6 - operator overloading, refers to the ability of an operator to work in  various ways depending on the operands that the          operator is workin now with.\n",
    "     for example is the \"+,-,*,/,%,>=,<=\" operator. This \"+\" operator will perform an arithmetic operation when applied on two        numbers, will concatenate two strings.\n",
    "     \n",
    "     class A:\n",
    "         def __init__(self, x, y):\n",
    "               self.x = x\n",
    "               self.y = y\n",
    "         def __add__(self):\n",
    "            return self.x+self.y\n",
    "      a=A(10,90)\n",
    "      a.__add__()\n",
    "      b=A('hello\",\"world\")\n",
    "      b.__add__()"
   ]
  },
  {
   "cell_type": "markdown",
   "metadata": {},
   "source": [
    "Q7. When do you consider allowing operator overloading of your classes?"
   ]
  },
  {
   "cell_type": "markdown",
   "metadata": {},
   "source": [
    "A7 - Lets assume a situation like, we have two objects which areused in a class (user-defined data type) and we have to add \n",
    "     two objects with binary '+' operator, then it will throws an error, because compiler don't know how to add two objects.\n",
    "     Thus we define a method for an operator and that process is called operator overloading.\n",
    "     \n",
    "class A:\n",
    "    def __init__(self, a):\n",
    "        self.a = a\n",
    "        \n",
    "    def __add__(self, x):\n",
    "        return self.a + x.a\n",
    "a = A(1)\n",
    "b = A(2)\n",
    "c = A(\"hello\")\n",
    "d = A(\"world\")\n",
    " \n",
    "print(a + b)\n",
    "print(c + d)"
   ]
  },
  {
   "cell_type": "markdown",
   "metadata": {},
   "source": [
    "Q8. What is the most popular form of operator overloading?"
   ]
  },
  {
   "cell_type": "markdown",
   "metadata": {},
   "source": [
    "A8 - The operator overloading is possible on the predefined operator only like(+,-,/,*,>=,<= etc). The operator overloading is \n",
    "     not possible in the user defined operator. There is no popular form but the addition is used mostly to make the process          easy to understand and to develop correlation."
   ]
  },
  {
   "cell_type": "markdown",
   "metadata": {},
   "source": [
    "Q9. What are the two most important concepts to grasp in order to comprehend Python OOP code?"
   ]
  },
  {
   "cell_type": "markdown",
   "metadata": {},
   "source": [
    "A9 - Both inheritance and polymorphism are useful concepts of OOP's. These concepts help us to create code that can be \n",
    "     easily scaled and easily maintained. Inheritance increases the reusability of the code. A child class can inherit from \n",
    "     the parent class. \n",
    "    \n",
    "     Polymorphism improves the flexibility of the code. Even if the name of the method is the same, it behaves differently \n",
    "     for different type of objects."
   ]
  }
 ],
 "metadata": {
  "kernelspec": {
   "display_name": "Python 3",
   "language": "python",
   "name": "python3"
  },
  "language_info": {
   "codemirror_mode": {
    "name": "ipython",
    "version": 3
   },
   "file_extension": ".py",
   "mimetype": "text/x-python",
   "name": "python",
   "nbconvert_exporter": "python",
   "pygments_lexer": "ipython3",
   "version": "3.6.13"
  }
 },
 "nbformat": 4,
 "nbformat_minor": 2
}
